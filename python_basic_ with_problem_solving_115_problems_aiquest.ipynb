{
 "cells": [
  {
   "cell_type": "markdown",
   "id": "febb3265",
   "metadata": {},
   "source": [
    "# Basic Problems"
   ]
  },
  {
   "cell_type": "markdown",
   "id": "a55aa1f0",
   "metadata": {},
   "source": [
    "1. Variable Swap: Write a Python program to swap the values of two variables without using a temporary variable."
   ]
  },
  {
   "cell_type": "code",
   "execution_count": 1,
   "id": "c52cc96d",
   "metadata": {},
   "outputs": [
    {
     "name": "stdout",
     "output_type": "stream",
     "text": [
      "First variable value:  10\n",
      "Second variable value:  20\n",
      "First variable value:  20\n",
      "Second variable value:  10\n"
     ]
    }
   ],
   "source": [
    "v1=10\n",
    "v2=20\n",
    "print('First variable value: ',v1)\n",
    "print('Second variable value: ',v2)\n",
    "\n",
    "#addition and subtraction\n",
    "#v1=v1+v2\n",
    "#v2=v1-v2\n",
    "#v1=v1-v2\n",
    "\n",
    "#product and division\n",
    "#v1=v1*v2\n",
    "#v2=v1//v2\n",
    "#v1=v1//v2\n",
    "\n",
    "#xor or bit operation\n",
    "v1=v1^v2\n",
    "v2=v1^v2\n",
    "v1=v1^v2\n",
    "\n",
    "print('First variable value: ',v1)\n",
    "print('Second variable value: ',v2)"
   ]
  },
  {
   "cell_type": "markdown",
   "id": "370353c9",
   "metadata": {},
   "source": [
    "2. Even or Odd: Write a Python program that takes an integer as input and prints whether it is even or odd."
   ]
  },
  {
   "cell_type": "code",
   "execution_count": 2,
   "id": "1f140151",
   "metadata": {},
   "outputs": [
    {
     "name": "stdout",
     "output_type": "stream",
     "text": [
      "Odd Number\n"
     ]
    }
   ],
   "source": [
    "#number = int(input('Type any number: '))\n",
    "number = 5\n",
    "if number%2==0:\n",
    "    print('Even Number')\n",
    "else:\n",
    "    print('Odd Number')"
   ]
  },
  {
   "cell_type": "markdown",
   "id": "4518883c",
   "metadata": {},
   "source": [
    "3. String Reverse: Write a Python function to reverse a given string and return the reversed string."
   ]
  },
  {
   "cell_type": "code",
   "execution_count": 3,
   "id": "8a49030f",
   "metadata": {},
   "outputs": [
    {
     "name": "stdout",
     "output_type": "stream",
     "text": [
      "Mohammad Shihab Uddin\n",
      "niddU bahihS dammahoM\n"
     ]
    }
   ],
   "source": [
    "def reverse_string(string_var):\n",
    "    char_list = list(string_var)\n",
    "    str_length = len(char_list)-1\n",
    "    rev_string_var = ''\n",
    "    while str_length>-1:\n",
    "        rev_string_var += char_list[str_length]\n",
    "        str_length-=1\n",
    "    return rev_string_var\n",
    "\n",
    "string_var = 'Mohammad Shihab Uddin'\n",
    "print(string_var)\n",
    "print(reverse_string(string_var))"
   ]
  },
  {
   "cell_type": "markdown",
   "id": "994ef9b2",
   "metadata": {},
   "source": [
    "4. Type Conversion: Given a list of integers, write a Python program to convert each element of the list to a string."
   ]
  },
  {
   "cell_type": "code",
   "execution_count": 4,
   "id": "f6de9e56",
   "metadata": {},
   "outputs": [
    {
     "name": "stdout",
     "output_type": "stream",
     "text": [
      "[1, 2, 3, 4, 5, 6]\n",
      "123456\n"
     ]
    }
   ],
   "source": [
    "list_int = [1,2,3,4,5,6]\n",
    "print(list_int)\n",
    "str_var = ''\n",
    "for i in list_int:\n",
    "    str_var += ''.join(str(i))\n",
    "print(str_var)"
   ]
  },
  {
   "cell_type": "markdown",
   "id": "922b99ad",
   "metadata": {},
   "source": [
    "5. Temperature Converter: Write a Python program that converts a temperature in Celsius to Fahrenheit. Take the Celsius temperature as input from the user."
   ]
  },
  {
   "cell_type": "code",
   "execution_count": 5,
   "id": "2ae78fa3",
   "metadata": {},
   "outputs": [
    {
     "name": "stdout",
     "output_type": "stream",
     "text": [
      "Temperature in fahrenheit:  89.6\n"
     ]
    }
   ],
   "source": [
    "#celsius = float(input('Type temperature in Celsius: '))\n",
    "celsius = 32\n",
    "fahrenheit = (celsius * (9/5)) + 32 \n",
    "print('Temperature in fahrenheit: ',fahrenheit)"
   ]
  },
  {
   "cell_type": "markdown",
   "id": "58ef592c",
   "metadata": {},
   "source": [
    "6. Data Type Checker: Write a Python function that takes a variable as input and returns the data type of the variable as a string (e.g., “int”, “float”, “str”, “list”, etc.)."
   ]
  },
  {
   "cell_type": "code",
   "execution_count": 6,
   "id": "b39e4b04",
   "metadata": {},
   "outputs": [
    {
     "name": "stdout",
     "output_type": "stream",
     "text": [
      "[12, 1.21, (12+3j), True, 'abc', [1, 2, 2], (1, 2, 3), {1, 2, 3}, {1: 2, 3: 4, 5: 6}]\n",
      "int, float, complex, bool, str, list, tuple, set, dict, "
     ]
    }
   ],
   "source": [
    "def get_data_tupe(data):\n",
    "    return type(data).__name__\n",
    "\n",
    "list_data = [12,1.21,12+3j,True,'abc',[1,2,2],(1,2,3),{1,2,3},{1:2,3:4,5:6}]\n",
    "print(list_data)\n",
    "for i in list_data:\n",
    "    print(get_data_tupe(i),end=', ')\n"
   ]
  },
  {
   "cell_type": "markdown",
   "id": "b7df8af5",
   "metadata": {},
   "source": [
    "7. String Palindrome: Write a Python function to check if a given string is a palindrome or not."
   ]
  },
  {
   "cell_type": "code",
   "execution_count": 7,
   "id": "ddca1180",
   "metadata": {},
   "outputs": [
    {
     "name": "stdout",
     "output_type": "stream",
     "text": [
      "String is a palindrome\n"
     ]
    }
   ],
   "source": [
    "def check_palindrome(data):\n",
    "    char_list = list(data)\n",
    "    str_length = len(char_list)\n",
    "    mid_length = str_length//2\n",
    "    i = 0\n",
    "    while i<mid_length:\n",
    "        if char_list[i]!=char_list[str_length-1]:\n",
    "            return False\n",
    "        i = i + 1\n",
    "        str_length = str_length - 1\n",
    "    return True\n",
    "\n",
    "if check_palindrome('madam'):\n",
    "    print('String is a palindrome')\n",
    "else:\n",
    "    print('String is not a palindrome')\n"
   ]
  },
  {
   "cell_type": "markdown",
   "id": "b3aa8c50",
   "metadata": {},
   "source": [
    "9. String Concatenation: Write a Python program that takes two strings as input and concatenates them into a single string without using the `+` operator."
   ]
  },
  {
   "cell_type": "code",
   "execution_count": 8,
   "id": "e4faf54b",
   "metadata": {},
   "outputs": [
    {
     "name": "stdout",
     "output_type": "stream",
     "text": [
      "shihab uddin\n"
     ]
    }
   ],
   "source": [
    "#str_1 = input('type string 1: ')\n",
    "#str_2 = input('type string 2: ')\n",
    "str_1 = 'shihab'\n",
    "str_2 = ' uddin'\n",
    "str_3=\"\".join([str_1,str_2])\n",
    "print(str_3)"
   ]
  },
  {
   "cell_type": "markdown",
   "id": "30c4ab81",
   "metadata": {},
   "source": [
    "10. Typecasting Challenge: Given three variables: `a = ‘100’`, `b = 25`, and `c = ‘10.5’`, write a Python program to perform the following operations and print the results:\n",
    "\n",
    "– Convert `a` to an integer and add it to `b`.\n",
    "\n",
    "– Convert `c` to a float and subtract it from the result of the first operation.\n",
    "\n",
    "– Convert the final result to a string and concatenate it with the string ” is the answer.”"
   ]
  },
  {
   "cell_type": "code",
   "execution_count": 9,
   "id": "c0070c50",
   "metadata": {},
   "outputs": [
    {
     "name": "stdout",
     "output_type": "stream",
     "text": [
      "Add a and b  125\n",
      "subtract a and b from c  114.5\n",
      "Result  is the answer 114.5\n"
     ]
    }
   ],
   "source": [
    "a = '100'\n",
    "b=25\n",
    "c='10.5'\n",
    "print('Add a and b ',int(a)+b)\n",
    "print('subtract a and b from c ',(int(a)+b)-float(c))\n",
    "print('Result ','is the answer '+str((int(a)+b)-float(c)))"
   ]
  },
  {
   "cell_type": "markdown",
   "id": "469b833a",
   "metadata": {},
   "source": [
    "# Python Conditional Statements"
   ]
  },
  {
   "cell_type": "markdown",
   "id": "cdbb4bf9",
   "metadata": {},
   "source": [
    "11. Positive, Negative, or Zero: Write a Python program that takes a number as input and prints whether it is positive, negative, or zero."
   ]
  },
  {
   "cell_type": "code",
   "execution_count": 10,
   "id": "55bc7ef3",
   "metadata": {},
   "outputs": [
    {
     "name": "stdout",
     "output_type": "stream",
     "text": [
      "Positive Number\n"
     ]
    }
   ],
   "source": [
    "#number = int(input('Type a number: '))\n",
    "number = 2\n",
    "if number>0:\n",
    "    print('Positive Number')\n",
    "elif number<0:\n",
    "    print('Negative Number')\n",
    "else:\n",
    "    print('Zero')"
   ]
  },
  {
   "cell_type": "markdown",
   "id": "4aee8c88",
   "metadata": {},
   "source": [
    "12. Largest of Three Numbers: Write a Python program that takes three numbers as input and prints the largest among them."
   ]
  },
  {
   "cell_type": "code",
   "execution_count": 11,
   "id": "b616282d",
   "metadata": {},
   "outputs": [
    {
     "name": "stdout",
     "output_type": "stream",
     "text": [
      "8  is largest\n"
     ]
    }
   ],
   "source": [
    "#num_1 =int(input('Type number 1: '))\n",
    "#num_2 =int(input('Type number 2: '))\n",
    "#num_3 =int(input('Type number 3: '))\n",
    "num_1 = 5\n",
    "num_2 = 8\n",
    "num_3 = 7\n",
    "if num_1>num_2 and num_1>num_3:\n",
    "    print(num_1,' is largest')\n",
    "elif num_2>num_3:\n",
    "    print(num_2,' is largest')\n",
    "else:\n",
    "    print(num_3,' is largest')\n"
   ]
  },
  {
   "cell_type": "markdown",
   "id": "cc80b3a2",
   "metadata": {},
   "source": [
    "13. Leap Year Checker: Write a Python program that takes a year as input and determines if it is a leap year or not."
   ]
  },
  {
   "cell_type": "code",
   "execution_count": 12,
   "id": "8b43d009",
   "metadata": {},
   "outputs": [
    {
     "name": "stdout",
     "output_type": "stream",
     "text": [
      "2000  is leap year\n"
     ]
    }
   ],
   "source": [
    "#year =int(input('Type year: '))\n",
    "year = 2000\n",
    "if (year%4==0 and year%100!=0) or (year%400==0 and year%100==0):\n",
    "    print(year,' is leap year')\n",
    "else:\n",
    "    print(year,' is not leap year')\n"
   ]
  },
  {
   "cell_type": "markdown",
   "id": "fc6a70c2",
   "metadata": {},
   "source": [
    "14. Grades Classification: Write a Python program that takes a student’s percentage as input and prints their corresponding grade according to the following criteria:\n",
    "\n",
    "– 90% or above: A+\n",
    "– 80-89%: A\n",
    "– 70-79%: B\n",
    "– 60-69%: C\n",
    "– Below 60%: Fail"
   ]
  },
  {
   "cell_type": "code",
   "execution_count": 13,
   "id": "19d0767c",
   "metadata": {},
   "outputs": [
    {
     "name": "stdout",
     "output_type": "stream",
     "text": [
      "Grade: C\n"
     ]
    }
   ],
   "source": [
    "#marks =int(input('Type marks: '))\n",
    "marks = 67\n",
    "print('Grade: ',end='')\n",
    "if marks>=90:\n",
    "    print('A+')\n",
    "elif marks>=80:\n",
    "    print('A')\n",
    "elif marks>=70:\n",
    "    print('B')\n",
    "elif marks>=60:\n",
    "    print('C')\n",
    "else:\n",
    "    print('Fail')\n"
   ]
  },
  {
   "cell_type": "markdown",
   "id": "e558d320",
   "metadata": {},
   "source": [
    "15. Vowel or Consonant: Write a Python program that takes a single character as input and determines whether it is a vowel or a consonant."
   ]
  },
  {
   "cell_type": "code",
   "execution_count": 14,
   "id": "6b690cd1",
   "metadata": {},
   "outputs": [
    {
     "name": "stdout",
     "output_type": "stream",
     "text": [
      "u  is a vowel\n"
     ]
    }
   ],
   "source": [
    "#char =input('Type character: ')\n",
    "char = 'u'\n",
    "if char=='a' or char=='e' or char=='i' or char=='o' or char=='u':\n",
    "    print(char,' is a vowel')\n",
    "else:\n",
    "    print(char,' is a consonant')\n"
   ]
  },
  {
   "cell_type": "markdown",
   "id": "610c6d6a",
   "metadata": {},
   "source": [
    "16. Time Classification: Write a Python program that takes the time in hours (24-hour format) as input and prints “Good Morning”, “Good Afternoon”, “Good Evening”, or “Good Night” based on the time."
   ]
  },
  {
   "cell_type": "code",
   "execution_count": 15,
   "id": "320bf2bf",
   "metadata": {},
   "outputs": [
    {
     "name": "stdout",
     "output_type": "stream",
     "text": [
      "Good Afternoon\n"
     ]
    }
   ],
   "source": [
    "#hour =int(input('Type hours (1-24): '))\n",
    "hour = 13\n",
    "if hour>=5 and hour<12:\n",
    "    print('Good Morning')\n",
    "elif hour>=12 and hour<17:\n",
    "    print('Good Afternoon')\n",
    "elif hour>=17 and hour<21:\n",
    "    print('Good Evening')\n",
    "else:\n",
    "    print('Good Night')\n"
   ]
  },
  {
   "cell_type": "markdown",
   "id": "5471152a",
   "metadata": {},
   "source": [
    "17. Triangle Type Checker: Write a Python program that takes three sides of a triangle as input and determines whether it forms an equilateral, isosceles, or scalene triangle."
   ]
  },
  {
   "cell_type": "code",
   "execution_count": 16,
   "id": "02500da9",
   "metadata": {},
   "outputs": [
    {
     "name": "stdout",
     "output_type": "stream",
     "text": [
      "This is a isosceles triangle\n"
     ]
    }
   ],
   "source": [
    "#side_1 =int(input('Type side 1: '))\n",
    "#side_2 =int(input('Type side 2: '))\n",
    "#side_3 =int(input('Type side 3: '))\n",
    "side_1 = 6\n",
    "side_2 = 5\n",
    "side_3 = 6\n",
    "if side_1==side_2 and side_2==side_3:\n",
    "    print('This is a equilateral triangle')\n",
    "elif  side_1==side_2 or side_2==side_3 or side_1==side_3:\n",
    "    print('This is a isosceles triangle')\n",
    "else:\n",
    "    print('This is a scalene triangle')\n"
   ]
  },
  {
   "cell_type": "markdown",
   "id": "a5f70cf2",
   "metadata": {},
   "source": [
    "18. Quadratic Equation Solver: Write a Python program that takes the coefficients (a, b, c) of a quadratic equation as input and calculates and prints the real roots (if they exist) or a message indicating the complex roots.\n"
   ]
  },
  {
   "cell_type": "code",
   "execution_count": 17,
   "id": "0f0cb028",
   "metadata": {
    "scrolled": true
   },
   "outputs": [
    {
     "name": "stdout",
     "output_type": "stream",
     "text": [
      "The solution are (-0.375-0.5994789404140899j) and (-0.375+0.5994789404140899j)\n"
     ]
    }
   ],
   "source": [
    "import cmath\n",
    "\n",
    "#a = int(input('Type value a: '))\n",
    "#b = int(input('Type value b: '))\n",
    "#c = int(input('Type vakue c: '))\n",
    "\n",
    "a = 8\n",
    "b = 6\n",
    "c = 4\n",
    "\n",
    "d = (b**2) - (4*a*c)\n",
    "\n",
    "sol1 = (-b-cmath.sqrt(d))/(2*a)\n",
    "sol2 = (-b+cmath.sqrt(d))/(2*a)\n",
    "\n",
    "print('The solution are {0} and {1}'.format(sol1,sol2))"
   ]
  },
  {
   "cell_type": "markdown",
   "id": "6b35b2a3",
   "metadata": {},
   "source": [
    "19. Number Ranges: Write a Python program that takes an integer as input and prints whether the number falls within the ranges: 0-50, 51-100, 101-150, or above 150."
   ]
  },
  {
   "cell_type": "code",
   "execution_count": 18,
   "id": "2ac39e84",
   "metadata": {},
   "outputs": [
    {
     "name": "stdout",
     "output_type": "stream",
     "text": [
      "Range: 51-100\n"
     ]
    }
   ],
   "source": [
    "#number =int(input('Type number: '))\n",
    "number = 76\n",
    "if number>0 and number<=50:\n",
    "    print('Range: 0-50')\n",
    "elif number>50 and number<=100:\n",
    "    print('Range: 51-100')\n",
    "elif number>100 and number<=150:\n",
    "    print('Range: 101-150')\n",
    "elif number>150:\n",
    "    print('Range: above 150')\n",
    "else:\n",
    "    print('Invalid Range')\n"
   ]
  },
  {
   "cell_type": "markdown",
   "id": "9403fb68",
   "metadata": {},
   "source": [
    "# For & While Loops"
   ]
  },
  {
   "cell_type": "markdown",
   "id": "8e4825b8",
   "metadata": {},
   "source": [
    "20. Sum of N Numbers: Write a Python program using a for loop to calculate the sum of the first N natural numbers, where N is taken as input from the user."
   ]
  },
  {
   "cell_type": "code",
   "execution_count": 19,
   "id": "9bfbab78",
   "metadata": {},
   "outputs": [
    {
     "name": "stdout",
     "output_type": "stream",
     "text": [
      "Sum of  10  Numbers:  55\n"
     ]
    }
   ],
   "source": [
    "#number = int(input('type number: '))\n",
    "number = 10\n",
    "sum_value = 0\n",
    "for i in range(1,number+1):\n",
    "    sum_value+=i\n",
    "print('Sum of ',number,' Numbers: ',sum_value)\n"
   ]
  },
  {
   "cell_type": "markdown",
   "id": "6c7a5fc5",
   "metadata": {},
   "source": [
    "21. Factorial Calculator: Write a Python program using a while loop to calculate the factorial of a given number N."
   ]
  },
  {
   "cell_type": "code",
   "execution_count": 20,
   "id": "b50f574c",
   "metadata": {},
   "outputs": [
    {
     "name": "stdout",
     "output_type": "stream",
     "text": [
      "5 ! (factorial) =  120\n"
     ]
    }
   ],
   "source": [
    "#number = int(input('type number: '))\n",
    "number = 5\n",
    "i = number\n",
    "factorial = 1\n",
    "while i>0:\n",
    "    factorial*=i\n",
    "    i-=1\n",
    "print(number,'! (factorial) = ',factorial)"
   ]
  },
  {
   "cell_type": "markdown",
   "id": "6466c200",
   "metadata": {},
   "source": [
    "22. Table of a Number: Write a Python program using a for loop to print the multiplication table of a given number N."
   ]
  },
  {
   "cell_type": "code",
   "execution_count": 21,
   "id": "6c36b968",
   "metadata": {},
   "outputs": [
    {
     "name": "stdout",
     "output_type": "stream",
     "text": [
      "7  X  1  =  7\n",
      "7  X  2  =  14\n",
      "7  X  3  =  21\n",
      "7  X  4  =  28\n",
      "7  X  5  =  35\n",
      "7  X  6  =  42\n",
      "7  X  7  =  49\n",
      "7  X  8  =  56\n",
      "7  X  9  =  63\n",
      "7  X  10  =  70\n"
     ]
    }
   ],
   "source": [
    "#number = int(input('type number: '))\n",
    "number = 7\n",
    "i = 1\n",
    "while i<11:\n",
    "    print(number,' X ',i,' = ',i*number)\n",
    "    i+=1\n"
   ]
  },
  {
   "cell_type": "markdown",
   "id": "a4ab63b2",
   "metadata": {},
   "source": [
    "23. Count Digits in a Number: Write a Python program using a while loop to count the number of digits in a given integer N."
   ]
  },
  {
   "cell_type": "code",
   "execution_count": 22,
   "id": "13d503fb",
   "metadata": {
    "scrolled": true
   },
   "outputs": [
    {
     "name": "stdout",
     "output_type": "stream",
     "text": [
      "Number of digit:  6\n"
     ]
    }
   ],
   "source": [
    "#number = int(input('type number: '))\n",
    "number = 456123\n",
    "count_digit = 0\n",
    "while number!=0:\n",
    "    number=number//10\n",
    "    count_digit+=1\n",
    "print('Number of digit: ',count_digit)"
   ]
  },
  {
   "cell_type": "markdown",
   "id": "6f943503",
   "metadata": {},
   "source": [
    "24. Fibonacci Sequence: Write a Python program using a for loop to generate the Fibonacci sequence up to a given limit N."
   ]
  },
  {
   "cell_type": "code",
   "execution_count": 23,
   "id": "c4206c40",
   "metadata": {},
   "outputs": [
    {
     "name": "stdout",
     "output_type": "stream",
     "text": [
      "1 1 2 3 5 8 13 21 34 55 "
     ]
    }
   ],
   "source": [
    "#number = int(input('type number: '))\n",
    "number = 10\n",
    "i = 1\n",
    "fib_1 = 1\n",
    "fib_2 = 1\n",
    "print(fib_1,end=' ')\n",
    "print(fib_2,end=' ')\n",
    "while i<=number-2:\n",
    "    temp = fib_1 + fib_2\n",
    "    fib_1 = fib_2\n",
    "    fib_2 = temp\n",
    "    print(fib_2,end=' ')\n",
    "    i = i + 1"
   ]
  },
  {
   "cell_type": "markdown",
   "id": "3d0df75d",
   "metadata": {},
   "source": [
    "25. Sum of Even Numbers: Write a Python program using a while loop to calculate the sum of all even numbers between 1 and N, where N is taken as input from the user."
   ]
  },
  {
   "cell_type": "code",
   "execution_count": 24,
   "id": "07ad6034",
   "metadata": {},
   "outputs": [
    {
     "name": "stdout",
     "output_type": "stream",
     "text": [
      "Sum of even number:  30\n"
     ]
    }
   ],
   "source": [
    "#number = int(input('type number: '))\n",
    "number = 10\n",
    "sum_even_value = 0\n",
    "for i in range(2,number+1,2):\n",
    "    sum_even_value+=i\n",
    "print('Sum of even number: ',sum_even_value)"
   ]
  },
  {
   "cell_type": "markdown",
   "id": "8ec4e36e",
   "metadata": {},
   "source": [
    "26. Print Patterns: Write a Python program using nested for loops to print various patterns, such as a right-angled triangle, an inverted right-angled triangle, and so on."
   ]
  },
  {
   "cell_type": "code",
   "execution_count": 25,
   "id": "3761177d",
   "metadata": {},
   "outputs": [
    {
     "name": "stdout",
     "output_type": "stream",
     "text": [
      "*\n",
      "**\n",
      "***\n",
      "****\n",
      "*****\n",
      "----------------\n",
      "*****\n",
      "****\n",
      "***\n",
      "**\n",
      "*\n",
      "----------------\n",
      "    *\n",
      "   **\n",
      "  ***\n",
      " ****\n",
      "*****\n",
      "----------------\n",
      "*****\n",
      " ****\n",
      "  ***\n",
      "   **\n",
      "    *\n",
      "----------------\n"
     ]
    }
   ],
   "source": [
    "for i in range(1,6):\n",
    "    for j in range(1,i+1):\n",
    "        print('*',end='')\n",
    "    print()\n",
    "print('----------------')\n",
    "for i in range(1,6):\n",
    "    for j in range(1,7-i):\n",
    "        print('*',end='')\n",
    "    print()\n",
    "print('----------------')\n",
    "for i in range(1,6):\n",
    "    for j in range(1,6-i):\n",
    "        print(' ',end='')\n",
    "    for j in range(1,i+1):\n",
    "        print('*',end='')\n",
    "    print()\n",
    "print('----------------')\n",
    "for i in range(1,6):\n",
    "    for j in range(1,i):\n",
    "        print(' ',end='')\n",
    "    for j in range(1,7-i):\n",
    "        print('*',end='')\n",
    "    print()\n",
    "print('----------------')"
   ]
  },
  {
   "cell_type": "markdown",
   "id": "8c434053",
   "metadata": {},
   "source": [
    "27. Prime Number Checker: Write a Python program using a while loop to check if a given number N is prime or not."
   ]
  },
  {
   "cell_type": "code",
   "execution_count": 26,
   "id": "4d242952",
   "metadata": {},
   "outputs": [
    {
     "name": "stdout",
     "output_type": "stream",
     "text": [
      "Prime Number\n"
     ]
    }
   ],
   "source": [
    "#number = int(input('type number: '))\n",
    "number = 23\n",
    "i = 2\n",
    "is_prime = True\n",
    "while i<number//2+1:\n",
    "    if number%i==0:\n",
    "        is_prime = False\n",
    "        break;\n",
    "    i+=1\n",
    "if is_prime:\n",
    "    print('Prime Number')\n",
    "else:\n",
    "    print('Not prime Number')\n"
   ]
  },
  {
   "cell_type": "markdown",
   "id": "60197b67",
   "metadata": {},
   "source": [
    "28. List Manipulation: Given a list of integers, write a Python program using a for loop to find the sum, average, maximum, and minimum values in the list."
   ]
  },
  {
   "cell_type": "code",
   "execution_count": 27,
   "id": "5756c19d",
   "metadata": {},
   "outputs": [
    {
     "name": "stdout",
     "output_type": "stream",
     "text": [
      "Sum:  248\n",
      "Average:  41.33\n",
      "Maximum:  80\n",
      "Minimum:  9\n"
     ]
    }
   ],
   "source": [
    "number_list = [12,30,75,9,42,80]\n",
    "sum_val = 0\n",
    "max_val = 0\n",
    "min_val = 9999\n",
    "count_val = len(number_list)\n",
    "for i in number_list:\n",
    "    sum_val+=i\n",
    "    if max_val<i:\n",
    "        max_val=i\n",
    "    if min_val>i:\n",
    "        min_val=i\n",
    "avg_val = sum_val/count_val\n",
    "print('Sum: ',sum_val)\n",
    "print('Average: ',round(avg_val, 2))\n",
    "print('Maximum: ',max_val)\n",
    "print('Minimum: ',min_val)"
   ]
  },
  {
   "cell_type": "markdown",
   "id": "2cb747b9",
   "metadata": {},
   "source": [
    "29. Reverse String: Write a Python program using a while loop to reverse a given string."
   ]
  },
  {
   "cell_type": "code",
   "execution_count": 28,
   "id": "14857227",
   "metadata": {},
   "outputs": [
    {
     "name": "stdout",
     "output_type": "stream",
     "text": [
      "Mohammad Shihab Uddin\n",
      "niddU bahihS dammahoM"
     ]
    }
   ],
   "source": [
    "my_string = \"Mohammad Shihab Uddin\"\n",
    "print(my_string)\n",
    "str_len = len(my_string)-1\n",
    "while str_len>-1:\n",
    "    print(my_string[str_len],end='')\n",
    "    str_len-=1\n"
   ]
  },
  {
   "cell_type": "markdown",
   "id": "c8ea9cdd",
   "metadata": {},
   "source": [
    "30. Multiplication Table: Write a Python program using nested loops to print the multiplication table from 1 to 10."
   ]
  },
  {
   "cell_type": "code",
   "execution_count": 29,
   "id": "7c2690c4",
   "metadata": {},
   "outputs": [
    {
     "name": "stdout",
     "output_type": "stream",
     "text": [
      "1  X  1  =  1\n",
      "1  X  2  =  2\n",
      "1  X  3  =  3\n",
      "1  X  4  =  4\n",
      "1  X  5  =  5\n",
      "1  X  6  =  6\n",
      "1  X  7  =  7\n",
      "1  X  8  =  8\n",
      "1  X  9  =  9\n",
      "1  X  10  =  10\n",
      "\n",
      "2  X  1  =  2\n",
      "2  X  2  =  4\n",
      "2  X  3  =  6\n",
      "2  X  4  =  8\n",
      "2  X  5  =  10\n",
      "2  X  6  =  12\n",
      "2  X  7  =  14\n",
      "2  X  8  =  16\n",
      "2  X  9  =  18\n",
      "2  X  10  =  20\n",
      "\n",
      "3  X  1  =  3\n",
      "3  X  2  =  6\n",
      "3  X  3  =  9\n",
      "3  X  4  =  12\n",
      "3  X  5  =  15\n",
      "3  X  6  =  18\n",
      "3  X  7  =  21\n",
      "3  X  8  =  24\n",
      "3  X  9  =  27\n",
      "3  X  10  =  30\n",
      "\n",
      "4  X  1  =  4\n",
      "4  X  2  =  8\n",
      "4  X  3  =  12\n",
      "4  X  4  =  16\n",
      "4  X  5  =  20\n",
      "4  X  6  =  24\n",
      "4  X  7  =  28\n",
      "4  X  8  =  32\n",
      "4  X  9  =  36\n",
      "4  X  10  =  40\n",
      "\n",
      "5  X  1  =  5\n",
      "5  X  2  =  10\n",
      "5  X  3  =  15\n",
      "5  X  4  =  20\n",
      "5  X  5  =  25\n",
      "5  X  6  =  30\n",
      "5  X  7  =  35\n",
      "5  X  8  =  40\n",
      "5  X  9  =  45\n",
      "5  X  10  =  50\n",
      "\n",
      "6  X  1  =  6\n",
      "6  X  2  =  12\n",
      "6  X  3  =  18\n",
      "6  X  4  =  24\n",
      "6  X  5  =  30\n",
      "6  X  6  =  36\n",
      "6  X  7  =  42\n",
      "6  X  8  =  48\n",
      "6  X  9  =  54\n",
      "6  X  10  =  60\n",
      "\n",
      "7  X  1  =  7\n",
      "7  X  2  =  14\n",
      "7  X  3  =  21\n",
      "7  X  4  =  28\n",
      "7  X  5  =  35\n",
      "7  X  6  =  42\n",
      "7  X  7  =  49\n",
      "7  X  8  =  56\n",
      "7  X  9  =  63\n",
      "7  X  10  =  70\n",
      "\n",
      "8  X  1  =  8\n",
      "8  X  2  =  16\n",
      "8  X  3  =  24\n",
      "8  X  4  =  32\n",
      "8  X  5  =  40\n",
      "8  X  6  =  48\n",
      "8  X  7  =  56\n",
      "8  X  8  =  64\n",
      "8  X  9  =  72\n",
      "8  X  10  =  80\n",
      "\n",
      "9  X  1  =  9\n",
      "9  X  2  =  18\n",
      "9  X  3  =  27\n",
      "9  X  4  =  36\n",
      "9  X  5  =  45\n",
      "9  X  6  =  54\n",
      "9  X  7  =  63\n",
      "9  X  8  =  72\n",
      "9  X  9  =  81\n",
      "9  X  10  =  90\n",
      "\n",
      "10  X  1  =  10\n",
      "10  X  2  =  20\n",
      "10  X  3  =  30\n",
      "10  X  4  =  40\n",
      "10  X  5  =  50\n",
      "10  X  6  =  60\n",
      "10  X  7  =  70\n",
      "10  X  8  =  80\n",
      "10  X  9  =  90\n",
      "10  X  10  =  100\n",
      "\n"
     ]
    }
   ],
   "source": [
    "for i in range(1,11):\n",
    "    for j in range(1,11):\n",
    "        print(i,' X ',j,' = ',i*j)\n",
    "    print()"
   ]
  },
  {
   "cell_type": "markdown",
   "id": "e9bff35b",
   "metadata": {},
   "source": [
    "31. Print Patterns: Write a Python program using nested loops to print the following pattern:\n",
    "*/**/***/****/*****  \n"
   ]
  },
  {
   "cell_type": "code",
   "execution_count": 30,
   "id": "e8bebe60",
   "metadata": {},
   "outputs": [
    {
     "name": "stdout",
     "output_type": "stream",
     "text": [
      "*\n",
      "**\n",
      "***\n",
      "****\n",
      "*****\n"
     ]
    }
   ],
   "source": [
    "for i in range(1,6):\n",
    "    for j in range(1,i+1):\n",
    "        print('*',end='')\n",
    "    print()"
   ]
  },
  {
   "cell_type": "markdown",
   "id": "63249151",
   "metadata": {},
   "source": [
    "32. Matrix Multiplication: Write a Python program using nested loops to multiply two matrices."
   ]
  },
  {
   "cell_type": "code",
   "execution_count": 31,
   "id": "2094a058",
   "metadata": {},
   "outputs": [
    {
     "name": "stdout",
     "output_type": "stream",
     "text": [
      "----A----\n",
      "1 1 1 \n",
      "2 2 2 \n",
      "3 3 3 \n",
      "----B----\n",
      "1 1 1 \n",
      "2 2 2 \n",
      "3 3 3 \n",
      "----A X B----\n",
      "6 6 6 \n",
      "12 12 12 \n",
      "18 18 18 \n"
     ]
    }
   ],
   "source": [
    "from array import *\n",
    "A = [[1,1,1],[2,2,2],[3,3,3]]\n",
    "B = [[1,1,1],[2,2,2],[3,3,3]]\n",
    "C = [[0,0,0],[0,0,0],[0,0,0]]\n",
    "print('----A----') \n",
    "for i in range(0,3):\n",
    "    for j in range(0,3):\n",
    "        print(A[i][j],end=' ')\n",
    "    print()\n",
    "print('----B----') \n",
    "for i in range(0,3):\n",
    "    for j in range(0,3):\n",
    "        print(B[i][j],end=' ')\n",
    "    print()\n",
    "print('----A X B----') \n",
    "i=0\n",
    "while i<3:  \n",
    "    j=0\n",
    "    while j<3:\n",
    "        k=0\n",
    "        while k<3:\n",
    "            C[i][j]+=A[i][k]*B[k][j]\n",
    "            k+=1\n",
    "        j+=1\n",
    "    i+=1\n",
    "for i in range(0,3):\n",
    "    for j in range(0,3):\n",
    "        print(C[i][j],end=' ')\n",
    "    print()\n",
    "\n"
   ]
  },
  {
   "cell_type": "code",
   "execution_count": 32,
   "id": "40985a52",
   "metadata": {},
   "outputs": [
    {
     "name": "stdout",
     "output_type": "stream",
     "text": [
      "[[1 1 1]\n",
      " [2 2 2]\n",
      " [3 3 3]]\n",
      "[[1 1 1]\n",
      " [2 2 2]\n",
      " [3 3 3]]\n",
      "[[ 6  6  6]\n",
      " [12 12 12]\n",
      " [18 18 18]]\n"
     ]
    }
   ],
   "source": [
    "import numpy as np\n",
    "A = np.array([[1,1,1],[2,2,2],[3,3,3]])\n",
    "B = np.array([[1,1,1],[2,2,2],[3,3,3]])\n",
    "C = np.dot(A,B)\n",
    "print(A)\n",
    "print(B)\n",
    "print(C)"
   ]
  },
  {
   "cell_type": "markdown",
   "id": "09cab458",
   "metadata": {},
   "source": [
    "33. Chessboard Pattern: Write a Python program using nested loops to print a chessboard pattern (alternating “X” and “O” characters) of size 8×8.34. Number Pyramid: Write a Python program using nested loops to print a number pyramid like the following:\n",
    "\n",
    "1\n",
    "22\n",
    "333\n",
    "4444\n",
    "55555"
   ]
  },
  {
   "cell_type": "code",
   "execution_count": 33,
   "id": "ae186927",
   "metadata": {},
   "outputs": [
    {
     "name": "stdout",
     "output_type": "stream",
     "text": [
      "1\n",
      "22\n",
      "333\n",
      "4444\n",
      "55555\n"
     ]
    }
   ],
   "source": [
    "for i in range(1,6):\n",
    "    for j in range(1,i+1):\n",
    "        print(i,end='')\n",
    "    print()\n"
   ]
  },
  {
   "cell_type": "markdown",
   "id": "6a9b7741",
   "metadata": {},
   "source": [
    "# List Problems:"
   ]
  },
  {
   "cell_type": "markdown",
   "id": "32300fc0",
   "metadata": {},
   "source": [
    "34. List Sum: Write a Python program to find the sum of all elements in a given list of integers."
   ]
  },
  {
   "cell_type": "code",
   "execution_count": 34,
   "id": "f3ce2f70",
   "metadata": {},
   "outputs": [
    {
     "name": "stdout",
     "output_type": "stream",
     "text": [
      "Sum:  248\n"
     ]
    }
   ],
   "source": [
    "number_list = [12,30,75,9,42,80]\n",
    "sum_val = 0\n",
    "for i in number_list:\n",
    "    sum_val+=i\n",
    "print('Sum: ',sum_val)\n"
   ]
  },
  {
   "cell_type": "markdown",
   "id": "6128dfe9",
   "metadata": {},
   "source": [
    "35. List Average: Write a Python program to calculate the average of all elements in a given list of integers."
   ]
  },
  {
   "cell_type": "code",
   "execution_count": 35,
   "id": "aa246d05",
   "metadata": {},
   "outputs": [
    {
     "name": "stdout",
     "output_type": "stream",
     "text": [
      "Average:  41.33\n"
     ]
    }
   ],
   "source": [
    "number_list = [12,30,75,9,42,80]\n",
    "sum_val = 0\n",
    "count_val = len(number_list)\n",
    "for i in number_list:\n",
    "    sum_val+=i\n",
    "avg_val = sum_val/count_val\n",
    "print('Average: ',round(avg_val,2))\n"
   ]
  },
  {
   "cell_type": "markdown",
   "id": "6b7917e6",
   "metadata": {},
   "source": [
    "36. List Max and Min: Write a Python program to find the maximum and minimum values in a given list of integers."
   ]
  },
  {
   "cell_type": "code",
   "execution_count": 36,
   "id": "74926173",
   "metadata": {},
   "outputs": [
    {
     "name": "stdout",
     "output_type": "stream",
     "text": [
      "Maximum:  80\n",
      "Minimum:  9\n"
     ]
    }
   ],
   "source": [
    "number_list = [12,30,75,9,42,80]\n",
    "max_val = 0\n",
    "min_val = 9999\n",
    "for i in number_list:\n",
    "    if max_val<i:\n",
    "        max_val=i\n",
    "    if min_val>i:\n",
    "        min_val=i\n",
    "print('Maximum: ',max_val)\n",
    "print('Minimum: ',min_val)"
   ]
  },
  {
   "cell_type": "markdown",
   "id": "7ebb512a",
   "metadata": {},
   "source": [
    "37. List Sorting: Write a Python program to sort a list of integers in ascending order."
   ]
  },
  {
   "cell_type": "code",
   "execution_count": 37,
   "id": "bfb68c22",
   "metadata": {},
   "outputs": [
    {
     "name": "stdout",
     "output_type": "stream",
     "text": [
      "List:  [12, 30, 75, 9, 42, 80]\n",
      "Sorted List:  [9, 12, 30, 42, 75, 80]\n"
     ]
    }
   ],
   "source": [
    "number_list = [12,30,75,9,42,80]\n",
    "print('List: ',number_list)\n",
    "count_val = len(number_list)\n",
    "i=1\n",
    "while i<count_val:\n",
    "    j=0\n",
    "    while count_val-i>j:\n",
    "        if number_list[j]>number_list[j+1]:\n",
    "            temp = number_list[j]\n",
    "            number_list[j]=number_list[j+1]\n",
    "            number_list[j+1]= temp\n",
    "        j+=1\n",
    "    i+=1\n",
    "print('Sorted List: ',number_list)"
   ]
  },
  {
   "cell_type": "code",
   "execution_count": 38,
   "id": "c38017d8",
   "metadata": {},
   "outputs": [
    {
     "name": "stdout",
     "output_type": "stream",
     "text": [
      "List:  [12, 30, 75, 9, 42, 80]\n",
      "Sorted List:  [9, 12, 30, 42, 75, 80]\n"
     ]
    }
   ],
   "source": [
    "number_list = [12,30,75,9,42,80]\n",
    "print('List: ',number_list)\n",
    "number_list.sort()\n",
    "print('Sorted List: ',number_list)"
   ]
  },
  {
   "cell_type": "markdown",
   "id": "42f1d33d",
   "metadata": {},
   "source": [
    "38. List Filtering: Given a list of integers, write a Python program to create a new list that contains only the even numbers from the original list."
   ]
  },
  {
   "cell_type": "code",
   "execution_count": 39,
   "id": "80534ece",
   "metadata": {},
   "outputs": [
    {
     "name": "stdout",
     "output_type": "stream",
     "text": [
      "List:  [12, 30, 75, 9, 42, 80]\n",
      "Even List:  [12, 30, 42, 80]\n"
     ]
    }
   ],
   "source": [
    "number_list = [12,30,75,9,42,80]\n",
    "print('List: ',number_list)\n",
    "new_list = []\n",
    "i=0\n",
    "while i<count_val:\n",
    "    if number_list[i]%2==0:\n",
    "        new_list.append(number_list[i])\n",
    "    i+=1\n",
    "print('Even List: ',new_list)"
   ]
  },
  {
   "cell_type": "markdown",
   "id": "a9aa0b42",
   "metadata": {},
   "source": [
    "39. List Reversal: Write a Python program to reverse a given list without using any built-in functions."
   ]
  },
  {
   "cell_type": "code",
   "execution_count": 40,
   "id": "accb8f8f",
   "metadata": {},
   "outputs": [
    {
     "name": "stdout",
     "output_type": "stream",
     "text": [
      "List:  [12, 30, 75, 9, 42, 80]\n",
      "Revers List:  [80, 42, 9, 75, 30, 12]\n"
     ]
    }
   ],
   "source": [
    "number_list = [12,30,75,9,42,80]\n",
    "print('List: ',number_list)\n",
    "new_list = []\n",
    "i=count_val = len(number_list)-1\n",
    "while i>-1:\n",
    "    new_list.append(number_list[i])\n",
    "    i-=1\n",
    "print('Revers List: ',new_list)"
   ]
  },
  {
   "cell_type": "code",
   "execution_count": 41,
   "id": "f46cc918",
   "metadata": {},
   "outputs": [
    {
     "name": "stdout",
     "output_type": "stream",
     "text": [
      "List:  [12, 30, 75, 9, 42, 80]\n",
      "Sorted List:  [80, 42, 9, 75, 30, 12]\n"
     ]
    }
   ],
   "source": [
    "number_list = [12,30,75,9,42,80]\n",
    "print('List: ',number_list)\n",
    "number_list.reverse()\n",
    "print('Sorted List: ',number_list)"
   ]
  },
  {
   "cell_type": "markdown",
   "id": "ef9b7597",
   "metadata": {},
   "source": [
    "40. List Manipulation: Given two lists of integers, write a Python program to create a new list that contains elements common to both lists."
   ]
  },
  {
   "cell_type": "code",
   "execution_count": 42,
   "id": "c7b0b525",
   "metadata": {},
   "outputs": [
    {
     "name": "stdout",
     "output_type": "stream",
     "text": [
      "List:  [12, 30, 75, 9, 42, 80]\n",
      "List:  [12, 40, 75, 8, 52, 80]\n",
      "Common in Lists:  [12, 75, 80]\n"
     ]
    }
   ],
   "source": [
    "number_list_1 = [12,30,75,9,42,80]\n",
    "number_list_2 = [12,40,75,8,52,80]\n",
    "print('List: ',number_list_1)\n",
    "print('List: ',number_list_2)\n",
    "new_list = []\n",
    "i=0\n",
    "while i<len(number_list):\n",
    "    if number_list_1[i]==number_list_2[i]:\n",
    "        new_list.append(number_list_1[i])\n",
    "    i+=1\n",
    "print('Common in Lists: ',new_list)"
   ]
  },
  {
   "cell_type": "code",
   "execution_count": 43,
   "id": "5d714f2c",
   "metadata": {},
   "outputs": [
    {
     "name": "stdout",
     "output_type": "stream",
     "text": [
      "List:  [12, 30, 75, 9, 42, 80]\n",
      "List:  [12, 40, 75, 8, 52, 80]\n",
      "Common in Lists:  [80, 75, 12]\n"
     ]
    }
   ],
   "source": [
    "number_list_1 = [12,30,75,9,42,80]\n",
    "number_list_2 = [12,40,75,8,52,80]\n",
    "print('List: ',number_list_1)\n",
    "print('List: ',number_list_2)\n",
    "new_list = []\n",
    "s1 = set(number_list_1)\n",
    "s2 = set(number_list_2)\n",
    "new_list = list(s1.intersection(s2))\n",
    "print('Common in Lists: ',new_list)"
   ]
  },
  {
   "cell_type": "markdown",
   "id": "a7b71e3d",
   "metadata": {},
   "source": [
    "41. List Element Count: Write a Python program to count the occurrences of a specific element in a given list.\n",
    "\n"
   ]
  },
  {
   "cell_type": "code",
   "execution_count": 44,
   "id": "8353f95d",
   "metadata": {},
   "outputs": [
    {
     "name": "stdout",
     "output_type": "stream",
     "text": [
      "List:  [12, 3, 12, 9, 42, 80, 3, 3, 9]\n",
      "New List:  [12, 3, 9, 42, 80]\n",
      "Count List:  [2, 3, 2, 1, 1]\n"
     ]
    }
   ],
   "source": [
    "number_list = [12,3,12,9,42,80,3,3,9]\n",
    "print('List: ',number_list)\n",
    "count_val = len(number_list)\n",
    "new_number_list = []\n",
    "count_number_list = []\n",
    "i=0\n",
    "while i<count_val:\n",
    "    j=i+1\n",
    "    count_number = 1\n",
    "    if number_list[i]!=0:\n",
    "        new_number_list.append(number_list[i])\n",
    "        while j<count_val:   \n",
    "            if number_list[i]==number_list[j]:\n",
    "                number_list[j]=0\n",
    "                count_number+=1\n",
    "            j+=1  \n",
    "        number_list[i]=0\n",
    "        count_number_list.append(count_number)\n",
    "    i+=1\n",
    "print('New List: ',new_number_list)\n",
    "print('Count List: ',count_number_list)"
   ]
  },
  {
   "cell_type": "code",
   "execution_count": 45,
   "id": "028a1367",
   "metadata": {},
   "outputs": [
    {
     "name": "stdout",
     "output_type": "stream",
     "text": [
      "List:  [12, 3, 12, 9, 42, 80, 3, 3, 9]\n",
      "Specific value:  12 is 2 times in the list\n"
     ]
    }
   ],
   "source": [
    "number_list = [12,3,12,9,42,80,3,3,9]\n",
    "print('List: ',number_list)\n",
    "count_val = len(number_list)\n",
    "count_number=0\n",
    "i=0\n",
    "specific_value = 12\n",
    "while i<count_val:\n",
    "    if number_list[i]==specific_value:\n",
    "        count_number+=1\n",
    "    i+=1\n",
    "print('Specific value: ',specific_value,'is',count_number,'times in the list')"
   ]
  },
  {
   "cell_type": "markdown",
   "id": "b1bb83e0",
   "metadata": {},
   "source": [
    "42. List Duplicates Removal: Write a Python program to remove duplicates from a given list while preserving the order of the elements."
   ]
  },
  {
   "cell_type": "code",
   "execution_count": 46,
   "id": "34313097",
   "metadata": {},
   "outputs": [
    {
     "name": "stdout",
     "output_type": "stream",
     "text": [
      "List:  [12, 3, 12, 9, 42, 80, 3, 3, 9]\n",
      "New List(remove duplicate):  [12, 3, 9, 42, 80, 9]\n"
     ]
    }
   ],
   "source": [
    "number_list = [12,3,12,9,42,80,3,3,9]\n",
    "print('List: ',number_list)\n",
    "count_val = len(number_list)\n",
    "new_number_list = []\n",
    "i=0\n",
    "while i<count_val:\n",
    "    j=i+1\n",
    "    count_number = 1\n",
    "    if number_list[i]!=0:\n",
    "        new_number_list.append(number_list[i])\n",
    "        while j<count_val-1:   \n",
    "            if number_list[i]==number_list[j]:\n",
    "                number_list[j]=0\n",
    "            j+=1  \n",
    "        number_list[i]=0\n",
    "    i+=1\n",
    "print('New List(remove duplicate): ',new_number_list)"
   ]
  },
  {
   "cell_type": "markdown",
   "id": "af569c6c",
   "metadata": {},
   "source": [
    "43. List Comprehension: Given a list of integers, write a Python program to create a new list that contains the squares of the elements using list comprehension."
   ]
  },
  {
   "cell_type": "code",
   "execution_count": 47,
   "id": "3eedb1eb",
   "metadata": {},
   "outputs": [
    {
     "name": "stdout",
     "output_type": "stream",
     "text": [
      "List:  [2, 7, 3, 9, 6, 1, 5]\n",
      "New List:  [4, 49, 9, 81, 36, 1, 25]\n"
     ]
    }
   ],
   "source": [
    "number_list = [2,7,3,9,6,1,5]\n",
    "print('List: ',number_list)\n",
    "new_number_list = [i**2 for i in number_list]\n",
    "print('New List: ',new_number_list)"
   ]
  },
  {
   "cell_type": "markdown",
   "id": "8bd06f03",
   "metadata": {},
   "source": [
    "# Nested List Problems:"
   ]
  },
  {
   "cell_type": "markdown",
   "id": "fdb5b2e9",
   "metadata": {},
   "source": [
    "44. Matrix Addition: Write a Python program to add two matrices represented as nested lists."
   ]
  },
  {
   "cell_type": "code",
   "execution_count": 48,
   "id": "004c1e39",
   "metadata": {},
   "outputs": [
    {
     "name": "stdout",
     "output_type": "stream",
     "text": [
      "----A----\n",
      "1 1 1 \n",
      "2 2 2 \n",
      "3 3 3 \n",
      "----B----\n",
      "1 1 1 \n",
      "2 2 2 \n",
      "3 3 3 \n",
      "----A + B----\n",
      "2 2 2 \n",
      "4 4 4 \n",
      "6 6 6 \n"
     ]
    }
   ],
   "source": [
    "A = [[1,1,1],[2,2,2],[3,3,3]]\n",
    "B = [[1,1,1],[2,2,2],[3,3,3]]\n",
    "C = [[0,0,0],[0,0,0],[0,0,0]]\n",
    "print('----A----') \n",
    "for i in range(0,3):\n",
    "    for j in range(0,3):\n",
    "        print(A[i][j],end=' ')\n",
    "    print()\n",
    "print('----B----') \n",
    "for i in range(0,3):\n",
    "    for j in range(0,3):\n",
    "        print(B[i][j],end=' ')\n",
    "    print()\n",
    "print('----A + B----') \n",
    "i=0\n",
    "while i<3:  \n",
    "    j=0\n",
    "    while j<3:\n",
    "        C[i][j]=A[i][j]+B[i][j]\n",
    "        j+=1\n",
    "    i+=1\n",
    "for i in range(0,3):\n",
    "    for j in range(0,3):\n",
    "        print(C[i][j],end=' ')\n",
    "    print()\n"
   ]
  },
  {
   "cell_type": "code",
   "execution_count": 49,
   "id": "13d9a803",
   "metadata": {},
   "outputs": [
    {
     "name": "stdout",
     "output_type": "stream",
     "text": [
      "[[1 1 1]\n",
      " [2 2 2]\n",
      " [3 3 3]]\n",
      "[[1 1 1]\n",
      " [2 2 2]\n",
      " [3 3 3]]\n",
      "[[2 2 2]\n",
      " [4 4 4]\n",
      " [6 6 6]]\n"
     ]
    }
   ],
   "source": [
    "import numpy as np\n",
    "A = np.array([[1,1,1],[2,2,2],[3,3,3]])\n",
    "B = np.array([[1,1,1],[2,2,2],[3,3,3]])\n",
    "C = np.add(A,B)\n",
    "print(A)\n",
    "print(B)\n",
    "print(C)"
   ]
  },
  {
   "cell_type": "markdown",
   "id": "1109cfd5",
   "metadata": {},
   "source": [
    "45. Flatten Nested List: Write a Python program to flatten a given nested list and convert it into a single-dimensional list."
   ]
  },
  {
   "cell_type": "code",
   "execution_count": 50,
   "id": "2a0b6829",
   "metadata": {},
   "outputs": [
    {
     "name": "stdout",
     "output_type": "stream",
     "text": [
      "List:  [1, [2, 3], [4, 5, 6], 7, [8, 9, 10]]\n",
      "New List:  [1, 2, 3, 4, 5, 6, 7, 8, 9, 10]\n"
     ]
    }
   ],
   "source": [
    "number_list = [1, [2, 3], [4, 5, 6], 7, [8, 9, 10]]\n",
    "print('List: ',number_list)\n",
    "new_number_list = []\n",
    "for i in number_list:\n",
    "    if type(i).__name__=='list':\n",
    "        new_number_list.extend(i)\n",
    "    else:\n",
    "        new_number_list.append(i)\n",
    "print('New List: ',new_number_list)"
   ]
  },
  {
   "cell_type": "markdown",
   "id": "334fde7b",
   "metadata": {},
   "source": [
    "46. List Element Frequency: Given a nested list containing lists of integers, write a Python program to count the frequency of each element in the entire nested list."
   ]
  },
  {
   "cell_type": "code",
   "execution_count": 51,
   "id": "693fb8fc",
   "metadata": {},
   "outputs": [
    {
     "name": "stdout",
     "output_type": "stream",
     "text": [
      "List:  [1, [2, 3], [4, 1, 5], 2, [3, 6, 4, 2]]\n",
      "New List(single):  [1, 2, 3, 4, 1, 5, 2, 3, 6, 4, 2]\n",
      "New List(unique):  [1, 2, 3, 4, 5, 6]\n",
      "Count List:  [2, 3, 2, 2, 1, 1]\n"
     ]
    }
   ],
   "source": [
    "number_list = [1, [2, 3], [4, 1, 5], 2, [3, 6, 4, 2]]\n",
    "print('List: ',number_list)\n",
    "new_number_list = []\n",
    "for i in number_list:\n",
    "    if type(i).__name__=='list':\n",
    "        new_number_list.extend(i)\n",
    "    else:\n",
    "        new_number_list.append(i)\n",
    "print('New List(single): ',new_number_list)\n",
    "\n",
    "\n",
    "count_val = len(new_number_list)\n",
    "unique_number_list = []\n",
    "count_number_list = []\n",
    "i=0\n",
    "while i<count_val:\n",
    "    j=i+1\n",
    "    count_number = 1\n",
    "    if new_number_list[i]!=0:\n",
    "        unique_number_list.append(new_number_list[i])\n",
    "        while j<count_val:   \n",
    "            if new_number_list[i]==new_number_list[j]:\n",
    "                new_number_list[j]=0\n",
    "                count_number+=1\n",
    "            j+=1  \n",
    "        new_number_list[i]=0\n",
    "        count_number_list.append(count_number)\n",
    "    i+=1\n",
    "print('New List(unique): ',unique_number_list)\n",
    "print('Count List: ',count_number_list)"
   ]
  },
  {
   "cell_type": "markdown",
   "id": "109f5aa2",
   "metadata": {},
   "source": [
    "47. Transpose Matrix: Write a Python program to transpose a given matrix represented as a nested list."
   ]
  },
  {
   "cell_type": "code",
   "execution_count": 52,
   "id": "14de19b2",
   "metadata": {
    "scrolled": true
   },
   "outputs": [
    {
     "name": "stdout",
     "output_type": "stream",
     "text": [
      "----A----\n",
      "1 1 1 \n",
      "2 2 2 \n",
      "3 3 3 \n",
      "----transpose A----\n",
      "1 2 3 \n",
      "1 2 3 \n",
      "1 2 3 \n"
     ]
    }
   ],
   "source": [
    "A = [[1,1,1],[2,2,2],[3,3,3]]\n",
    "B = [[0,0,0],[0,0,0],[0,0,0]]\n",
    "print('----A----') \n",
    "for i in range(0,3):\n",
    "    for j in range(0,3):\n",
    "        print(A[i][j],end=' ')\n",
    "    print()\n",
    "print('----transpose A----') \n",
    "i=0\n",
    "while i<3:  \n",
    "    j=0\n",
    "    while j<3:\n",
    "        B[j][i]=A[i][j]\n",
    "        j+=1\n",
    "    i+=1\n",
    "for i in range(0,3):\n",
    "    for j in range(0,3):\n",
    "        print(B[i][j],end=' ')\n",
    "    print()\n"
   ]
  },
  {
   "cell_type": "markdown",
   "id": "abaa12c8",
   "metadata": {},
   "source": [
    "48. List of Lists Concatenation: Given a list of nested lists, write a Python program to concatenate all the sublists into a single flat list."
   ]
  },
  {
   "cell_type": "code",
   "execution_count": 53,
   "id": "aa6e4256",
   "metadata": {},
   "outputs": [
    {
     "name": "stdout",
     "output_type": "stream",
     "text": [
      "List:  [1, [2, 3], [4, 5, 6], 7, [8, 9, 10]]\n",
      "New List:  [1, 2, 3, 4, 5, 6, 7, 8, 9, 10]\n"
     ]
    }
   ],
   "source": [
    "number_list = [1, [2, 3], [4, 5, 6], 7, [8, 9, 10]]\n",
    "print('List: ',number_list)\n",
    "new_number_list = []\n",
    "for i in number_list:\n",
    "    if type(i).__name__=='list':\n",
    "        new_number_list.extend(i)\n",
    "    else:\n",
    "        new_number_list.append(i)\n",
    "print('New List: ',new_number_list)"
   ]
  },
  {
   "cell_type": "markdown",
   "id": "ff878a6a",
   "metadata": {},
   "source": [
    "# Tuple Problems"
   ]
  },
  {
   "cell_type": "markdown",
   "id": "7205b89c",
   "metadata": {},
   "source": [
    "49. Tuple Concatenation: Write a Python program to concatenate two tuples and create a new tuple."
   ]
  },
  {
   "cell_type": "code",
   "execution_count": 54,
   "id": "d26bffbf",
   "metadata": {},
   "outputs": [
    {
     "name": "stdout",
     "output_type": "stream",
     "text": [
      "(1, 2, 3)\n",
      "(4, 5, 6)\n",
      "(1, 2, 3, 4, 5, 6)\n"
     ]
    }
   ],
   "source": [
    "t1 = (1,2,3)\n",
    "print(t1)\n",
    "t2 = (4,5,6)\n",
    "print(t2)\n",
    "t3=t1+t2\n",
    "print(t3)"
   ]
  },
  {
   "cell_type": "markdown",
   "id": "cee039a5",
   "metadata": {},
   "source": [
    "50. Tuple Unpacking: Given a tuple with three elements (x, y, z), write a Python program to unpack the tuple and assign the values to three variables."
   ]
  },
  {
   "cell_type": "code",
   "execution_count": 55,
   "id": "92f5d6a9",
   "metadata": {},
   "outputs": [
    {
     "name": "stdout",
     "output_type": "stream",
     "text": [
      "1  2  3\n"
     ]
    }
   ],
   "source": [
    "t1 = (1,2,3)\n",
    "x=t1[0]\n",
    "y=t1[1]\n",
    "z=t1[2]\n",
    "print(x,'',y,'',z)"
   ]
  },
  {
   "cell_type": "code",
   "execution_count": 56,
   "id": "999fab75",
   "metadata": {},
   "outputs": [
    {
     "name": "stdout",
     "output_type": "stream",
     "text": [
      "1  2  3\n"
     ]
    }
   ],
   "source": [
    "t1 = (1,2,3)\n",
    "(x,y,z)=t1\n",
    "print(x,'',y,'',z)"
   ]
  },
  {
   "cell_type": "markdown",
   "id": "ac69d1db",
   "metadata": {},
   "source": [
    "51. Tuple Sorting: Write a Python program to sort a tuple of integers in ascending order."
   ]
  },
  {
   "cell_type": "code",
   "execution_count": 57,
   "id": "f8d78fd6",
   "metadata": {},
   "outputs": [
    {
     "name": "stdout",
     "output_type": "stream",
     "text": [
      "Tuple : (5, 2, 24, 3, 1, 6, 7)\n",
      "Sorted Tuple : (1, 2, 3, 5, 6, 7, 24)\n"
     ]
    }
   ],
   "source": [
    "t1 = (5, 2, 24, 3, 1, 6, 7)  \n",
    "t2 = tuple(sorted(t1))  \n",
    "print('Tuple :', t1)  \n",
    "print('Sorted Tuple :', t2)"
   ]
  },
  {
   "cell_type": "markdown",
   "id": "3c497b1c",
   "metadata": {},
   "source": [
    "52. Tuple Frequency Count: Given a tuple containing various elements, write a Python program to count the frequency of a specific element in the tuple."
   ]
  },
  {
   "cell_type": "code",
   "execution_count": 58,
   "id": "02f2b191",
   "metadata": {},
   "outputs": [
    {
     "name": "stdout",
     "output_type": "stream",
     "text": [
      "2 is 2 times\n"
     ]
    }
   ],
   "source": [
    "t1 = (5, 3, 2, 3, 1, 2, 3)\n",
    "count_val = 0\n",
    "specific_val = 2\n",
    "for i in t1:\n",
    "    if i==specific_val:\n",
    "        count_val+=1\n",
    "print(specific_val,'is',count_val,'times')"
   ]
  },
  {
   "cell_type": "markdown",
   "id": "002681e1",
   "metadata": {},
   "source": [
    "53. Tuple to List: Write a Python program to convert a tuple into a list."
   ]
  },
  {
   "cell_type": "code",
   "execution_count": 59,
   "id": "35ddcd94",
   "metadata": {},
   "outputs": [
    {
     "name": "stdout",
     "output_type": "stream",
     "text": [
      "(5, 2, 24, 3, 1, 6, 7)\n",
      "<class 'tuple'>\n",
      "[5, 2, 24, 3, 1, 6, 7]\n",
      "<class 'list'>\n"
     ]
    }
   ],
   "source": [
    "t1 = (5, 2, 24, 3, 1, 6, 7)  \n",
    "print(t1)\n",
    "print(type(t1))\n",
    "li=list(t1)\n",
    "print(li)\n",
    "print(type(li))"
   ]
  },
  {
   "cell_type": "markdown",
   "id": "6faee9b6",
   "metadata": {},
   "source": [
    "54. Tuple Reversal: Write a Python program to reverse a tuple without using any built-in functions."
   ]
  },
  {
   "cell_type": "code",
   "execution_count": 60,
   "id": "e024a4d6",
   "metadata": {},
   "outputs": [
    {
     "name": "stdout",
     "output_type": "stream",
     "text": [
      "Tuple : (5, 2, 24, 3, 1, 6, 7)\n",
      "reversed Tuple : (7, 6, 1, 3, 24, 2, 5)\n"
     ]
    }
   ],
   "source": [
    "t1 = (5, 2, 24, 3, 1, 6, 7)  \n",
    "t2 = tuple(reversed(t1))  \n",
    "print('Tuple :', t1)  \n",
    "print('reversed Tuple :', t2)"
   ]
  },
  {
   "cell_type": "markdown",
   "id": "75880435",
   "metadata": {},
   "source": [
    "55. Tuple Slicing: Given a tuple, write a Python program to extract a slice of elements from it."
   ]
  },
  {
   "cell_type": "code",
   "execution_count": 61,
   "id": "46c117af",
   "metadata": {},
   "outputs": [
    {
     "name": "stdout",
     "output_type": "stream",
     "text": [
      "(5, 2, 24, 3, 1, 6, 7)\n",
      "(5, 2)\n",
      "(24, 3, 1)\n",
      "(6, 7)\n"
     ]
    }
   ],
   "source": [
    "t1 = (5, 2, 24, 3, 1, 6, 7)  \n",
    "print(t1)\n",
    "s1 = t1[0:2]\n",
    "s2 = t1[2:5]\n",
    "s3 = t1[-2:]\n",
    "print(s1)\n",
    "print(s2)\n",
    "print(s3)"
   ]
  },
  {
   "cell_type": "markdown",
   "id": "7f18025d",
   "metadata": {},
   "source": [
    "56. Tuple Operations: Given two tuples of integers, write a Python program to perform element-wise addition, subtraction, and multiplication and create new tuples for each operation."
   ]
  },
  {
   "cell_type": "code",
   "execution_count": 62,
   "id": "5b9ede11",
   "metadata": {},
   "outputs": [
    {
     "name": "stdout",
     "output_type": "stream",
     "text": [
      "(1, 2, 3)\n",
      "(4, 5, 6)\n",
      "Addition (5, 7, 9)\n",
      "Subtraction (-3, -3, -3)\n",
      "multiplication (4, 10, 18)\n"
     ]
    }
   ],
   "source": [
    "t1 = (1,2,3)\n",
    "print(t1)\n",
    "t2 = (4,5,6)\n",
    "print(t2)\n",
    "add_list = []\n",
    "sub_list = []\n",
    "mul_list = []\n",
    "for i in range(0,len(t1)):\n",
    "    add_list.append(t1[i]+t2[i])\n",
    "    sub_list.append(t1[i]-t2[i])\n",
    "    mul_list.append(t1[i]*t2[i])\n",
    "print('Addition',tuple(add_list))\n",
    "print('Subtraction',tuple(sub_list))\n",
    "print('multiplication',tuple(mul_list))"
   ]
  },
  {
   "cell_type": "code",
   "execution_count": 63,
   "id": "8921408a",
   "metadata": {},
   "outputs": [
    {
     "name": "stdout",
     "output_type": "stream",
     "text": [
      "(1, 2, 3)\n",
      "(4, 5, 6)\n",
      "Addition (5, 7, 9)\n",
      "Subtraction (-3, -3, -3)\n",
      "multiplication (4, 10, 18)\n"
     ]
    }
   ],
   "source": [
    "t1 = (1,2,3)\n",
    "print(t1)\n",
    "t2 = (4,5,6)\n",
    "print(t2)\n",
    "print('Addition',tuple(map(lambda i, j: i + j, t1, t2)))\n",
    "print('Subtraction',tuple(map(lambda i, j: i - j, t1, t2)))\n",
    "print('multiplication',tuple(map(lambda i, j: i * j, t1, t2)))"
   ]
  },
  {
   "cell_type": "markdown",
   "id": "99f59161",
   "metadata": {},
   "source": [
    "57. Tuple Membership Test: Write a Python program that takes an element as input and checks if it exists in a given tuple."
   ]
  },
  {
   "cell_type": "code",
   "execution_count": 64,
   "id": "0739ab41",
   "metadata": {},
   "outputs": [
    {
     "name": "stdout",
     "output_type": "stream",
     "text": [
      "(5, 2, 24, 3, 1, 6, 7)\n",
      "24 is exist\n"
     ]
    }
   ],
   "source": [
    "t1 = (5, 2, 24, 3, 1, 6, 7)  \n",
    "print(t1)\n",
    "#check_val = int(input('Type any above number: '))\n",
    "check_val = 24\n",
    "is_exist = False\n",
    "for i in t1:\n",
    "    if i==check_val:\n",
    "        is_exist = True\n",
    "        break\n",
    "if is_exist:\n",
    "    print(check_val,'is exist')\n",
    "else:\n",
    "    print(check_val,'is not exist')"
   ]
  },
  {
   "cell_type": "markdown",
   "id": "ecbec433",
   "metadata": {},
   "source": [
    "58. Tuple Packing: Write a Python program to pack three variables into a single tuple and print the tuple."
   ]
  },
  {
   "cell_type": "code",
   "execution_count": 65,
   "id": "7ee1f962",
   "metadata": {},
   "outputs": [
    {
     "name": "stdout",
     "output_type": "stream",
     "text": [
      "(10, 20, 30)\n"
     ]
    }
   ],
   "source": [
    "x=10\n",
    "y=20\n",
    "z=30\n",
    "t1 = (x,y,z)\n",
    "print(t1)"
   ]
  },
  {
   "cell_type": "markdown",
   "id": "893e3c34",
   "metadata": {},
   "source": [
    "# Nested List Problems"
   ]
  },
  {
   "cell_type": "markdown",
   "id": "180dc44a",
   "metadata": {},
   "source": [
    "59. Nested List Element Access: Given a nested list, write a Python program to access and print specific elements from it."
   ]
  },
  {
   "cell_type": "code",
   "execution_count": 66,
   "id": "9207c623",
   "metadata": {},
   "outputs": [
    {
     "name": "stdout",
     "output_type": "stream",
     "text": [
      "List:  [1, [2, 3], [4, 5, 6], 7, [8, 9, 10]]\n",
      "Value 1:  1\n",
      "Value 3:  3\n",
      "Value 5:  5\n",
      "Value 10:  10\n"
     ]
    }
   ],
   "source": [
    "number_list = [1, [2, 3], [4, 5, 6], 7, [8, 9, 10]]\n",
    "print('List: ',number_list)\n",
    "print('Value 1: ',number_list[0])\n",
    "print('Value 3: ',number_list[1][1])\n",
    "print('Value 5: ',number_list[2][1])\n",
    "print('Value 10: ',number_list[4][2])"
   ]
  },
  {
   "cell_type": "markdown",
   "id": "1c21a3db",
   "metadata": {},
   "source": [
    "60. Nested List Flattening: Write a Python program to flatten a nested list and convert it into a single-dimensional list."
   ]
  },
  {
   "cell_type": "code",
   "execution_count": 67,
   "id": "f269e606",
   "metadata": {},
   "outputs": [
    {
     "name": "stdout",
     "output_type": "stream",
     "text": [
      "List:  [1, [2, 3], [4, 5, 6], 7, [8, 9, 10]]\n",
      "New List:  [1, 2, 3, 4, 5, 6, 7, 8, 9, 10]\n"
     ]
    }
   ],
   "source": [
    "number_list = [1, [2, 3], [4, 5, 6], 7, [8, 9, 10]]\n",
    "print('List: ',number_list)\n",
    "new_number_list = []\n",
    "for i in number_list:\n",
    "    if type(i).__name__=='list':\n",
    "        new_number_list.extend(i)\n",
    "    else:\n",
    "        new_number_list.append(i)\n",
    "print('New List: ',new_number_list)"
   ]
  },
  {
   "cell_type": "markdown",
   "id": "36b59d38",
   "metadata": {},
   "source": [
    "61. Nested List Sorting: Given a nested list containing lists of integers, write a Python program to sort the sublists based on their lengths."
   ]
  },
  {
   "cell_type": "code",
   "execution_count": 68,
   "id": "3b94d24c",
   "metadata": {},
   "outputs": [
    {
     "name": "stdout",
     "output_type": "stream",
     "text": [
      "List:  [1, [2, 3], [6, 4, 5], 7, [10, 8, 9]]\n",
      "New List:  [1, [2, 3], [4, 5, 6], 7, [8, 9, 10]]\n"
     ]
    }
   ],
   "source": [
    "number_list = [1, [2, 3], [6, 4, 5], 7, [10, 8,9]]\n",
    "print('List: ',number_list)\n",
    "new_number_list = []\n",
    "for i in number_list:\n",
    "    if type(i).__name__=='list':\n",
    "        j = sorted(i)\n",
    "        new_number_list.append(j)\n",
    "    else:\n",
    "        new_number_list.append(i)\n",
    "print('New List: ',new_number_list)"
   ]
  },
  {
   "cell_type": "markdown",
   "id": "ad7161bb",
   "metadata": {},
   "source": [
    "62. List of Tuples Conversion: Given a nested list containing tuples of (x, y) coordinates, write a Python program to convert it into a list of x-coordinates and a list of y-coordinates."
   ]
  },
  {
   "cell_type": "code",
   "execution_count": 69,
   "id": "dd877a9b",
   "metadata": {},
   "outputs": [
    {
     "name": "stdout",
     "output_type": "stream",
     "text": [
      "[(1, 2), (3, 4), (5, 6), (7, 8), (9, 10)]\n",
      "list of x-coordinates:  [1, 3, 5, 7, 9]\n",
      "list of y-coordinates:  [2, 4, 6, 8, 10]\n"
     ]
    }
   ],
   "source": [
    "number_list = [(1,2), (3, 4),(5,6), (7,8),(9,10)]\n",
    "print(number_list)\n",
    "x_list = []\n",
    "y_list = []\n",
    "for i in number_list:\n",
    "    x_list.append(i[0])\n",
    "    y_list.append(i[1])\n",
    "print('list of x-coordinates: ',x_list)\n",
    "print('list of y-coordinates: ',y_list)"
   ]
  },
  {
   "cell_type": "markdown",
   "id": "91ba2e0e",
   "metadata": {},
   "source": [
    "63. Matrix Transpose: Write a Python program to transpose a given matrix represented as a nested list."
   ]
  },
  {
   "cell_type": "code",
   "execution_count": 70,
   "id": "0cb9acf3",
   "metadata": {},
   "outputs": [
    {
     "name": "stdout",
     "output_type": "stream",
     "text": [
      "----A----\n",
      "1 1 1 \n",
      "2 2 2 \n",
      "3 3 3 \n",
      "----transpose A----\n",
      "1 2 3 \n",
      "1 2 3 \n",
      "1 2 3 \n"
     ]
    }
   ],
   "source": [
    "A = [[1,1,1],[2,2,2],[3,3,3]]\n",
    "B = [[0,0,0],[0,0,0],[0,0,0]]\n",
    "print('----A----') \n",
    "for i in range(0,3):\n",
    "    for j in range(0,3):\n",
    "        print(A[i][j],end=' ')\n",
    "    print()\n",
    "print('----transpose A----') \n",
    "i=0\n",
    "while i<3:  \n",
    "    j=0\n",
    "    while j<3:\n",
    "        B[j][i]=A[i][j]\n",
    "        j+=1\n",
    "    i+=1\n",
    "for i in range(0,3):\n",
    "    for j in range(0,3):\n",
    "        print(B[i][j],end=' ')\n",
    "    print()"
   ]
  },
  {
   "cell_type": "markdown",
   "id": "4ff8efdf",
   "metadata": {},
   "source": [
    "64. Nested List Concatenation: Given a list of nested lists, write a Python program to concatenate all the sublists into a single flat list."
   ]
  },
  {
   "cell_type": "code",
   "execution_count": 71,
   "id": "fbd0287a",
   "metadata": {},
   "outputs": [
    {
     "name": "stdout",
     "output_type": "stream",
     "text": [
      "List:  [1, [2, 3], [4, 5, 6], 7, [8, 9, 10]]\n",
      "New List:  [1, 2, 3, 4, 5, 6, 7, 8, 9, 10]\n"
     ]
    }
   ],
   "source": [
    "number_list = [1, [2, 3], [4, 5, 6], 7, [8, 9, 10]]\n",
    "print('List: ',number_list)\n",
    "new_number_list = []\n",
    "for i in number_list:\n",
    "    if type(i).__name__=='list':\n",
    "        new_number_list.extend(i)\n",
    "    else:\n",
    "        new_number_list.append(i)\n",
    "print('New List: ',new_number_list)"
   ]
  },
  {
   "cell_type": "markdown",
   "id": "3965c341",
   "metadata": {},
   "source": [
    "65. Count Even Numbers: Write a Python program to count the number of even numbers in a nested list."
   ]
  },
  {
   "cell_type": "code",
   "execution_count": 72,
   "id": "deb96fc0",
   "metadata": {},
   "outputs": [
    {
     "name": "stdout",
     "output_type": "stream",
     "text": [
      "List:  [1, [2, 3], [4, 5, 6], 7, [8, 9, 10]]\n",
      "Even count:  5\n",
      "Odd count:  5\n"
     ]
    }
   ],
   "source": [
    "number_list = [1, [2, 3], [4, 5, 6], 7, [8, 9, 10]]\n",
    "print('List: ',number_list)\n",
    "even_count = 0\n",
    "odd_count = 0\n",
    "for i in number_list:\n",
    "    if type(i).__name__=='list':\n",
    "        for j in i:\n",
    "            if j%2==0:\n",
    "                even_count+=1\n",
    "            else:\n",
    "                odd_count+=1\n",
    "    else:\n",
    "        if i%2==0:\n",
    "                even_count+=1\n",
    "        else:\n",
    "            odd_count+=1\n",
    "print('Even count: ',even_count)\n",
    "print('Odd count: ',odd_count)"
   ]
  },
  {
   "cell_type": "markdown",
   "id": "ea8ec68b",
   "metadata": {},
   "source": [
    "66. Maximum Element in Nested List: Write a Python program to find the maximum element in a nested list of integers."
   ]
  },
  {
   "cell_type": "code",
   "execution_count": 73,
   "id": "73a82702",
   "metadata": {},
   "outputs": [
    {
     "name": "stdout",
     "output_type": "stream",
     "text": [
      "List:  [110, [2, 330], [4, 55, 6], 77, [8, 9, 10]]\n",
      "Max Value:  330\n"
     ]
    }
   ],
   "source": [
    "number_list = [110, [2, 330], [4, 55, 6], 77, [8, 9, 10]]\n",
    "print('List: ',number_list)\n",
    "max_val = 0\n",
    "for i in number_list:\n",
    "    if type(i).__name__=='list':\n",
    "        for j in i:\n",
    "            if max_val<j:\n",
    "                max_val=j\n",
    "    else:\n",
    "        if max_val<i:\n",
    "            max_val=i\n",
    "print('Max Value: ',max_val)"
   ]
  },
  {
   "cell_type": "markdown",
   "id": "c3d36d40",
   "metadata": {},
   "source": [
    "67. Diagonal Sum of Matrix: Given a square matrix represented as a nested list, write a Python program to calculate the sum of the elements in the main diagonal."
   ]
  },
  {
   "cell_type": "code",
   "execution_count": 74,
   "id": "ec3956b8",
   "metadata": {},
   "outputs": [
    {
     "name": "stdout",
     "output_type": "stream",
     "text": [
      "----A----\n",
      "1 1 1 \n",
      "2 2 2 \n",
      "3 3 3 \n",
      "Diagonal sum:  6\n"
     ]
    }
   ],
   "source": [
    "A = [[1,1,1],[2,2,2],[3,3,3]]\n",
    "diagonal_sum=0\n",
    "print('----A----') \n",
    "for i in range(0,3):\n",
    "    for j in range(0,3):\n",
    "        print(A[i][j],end=' ')\n",
    "    print()\n",
    "for i in range(0,3):\n",
    "    for j in range(0,3):\n",
    "        if i==j:\n",
    "            diagonal_sum+=A[i][j]\n",
    "print('Diagonal sum: ',diagonal_sum) "
   ]
  },
  {
   "cell_type": "markdown",
   "id": "dd473f15",
   "metadata": {},
   "source": [
    "68. Nested List Element Search: Write a Python program to search for a specific element in a nested list and return its position (row and column indices)."
   ]
  },
  {
   "cell_type": "code",
   "execution_count": 75,
   "id": "f6ca73ea",
   "metadata": {},
   "outputs": [
    {
     "name": "stdout",
     "output_type": "stream",
     "text": [
      "List:  [110, [2, 330], [4, 55, 6], 77, [8, 9, 10]]\n",
      "Position :  3 row, 2 column\n"
     ]
    }
   ],
   "source": [
    "number_list = [110, [2, 330], [4, 55, 6], 77, [8, 9, 10]]\n",
    "print('List: ',number_list)\n",
    "#specific_element = int(input('Type any above number: '))\n",
    "specific_element = 55\n",
    "max_val = 0\n",
    "r=0\n",
    "row=0\n",
    "c=0\n",
    "column=0\n",
    "for i in number_list:\n",
    "    if type(i).__name__=='list':\n",
    "        c=0\n",
    "        for j in i:\n",
    "            if specific_element==j:\n",
    "                row=r\n",
    "                column=c\n",
    "                break\n",
    "            c+=1\n",
    "    else:\n",
    "        if specific_element==i:\n",
    "            row=r\n",
    "            column=c\n",
    "            break\n",
    "    r+=1\n",
    "print('Position : ',row+1,'row,',column+1,'column')"
   ]
  },
  {
   "cell_type": "markdown",
   "id": "fc4d9095",
   "metadata": {},
   "source": [
    "# Set Problems"
   ]
  },
  {
   "cell_type": "markdown",
   "id": "2db23da9",
   "metadata": {},
   "source": [
    "69. Duplicate Removal: Write a Python program that takes a list of elements as input and creates a new set containing only the unique elements from the list."
   ]
  },
  {
   "cell_type": "code",
   "execution_count": 76,
   "id": "8ae0fd4a",
   "metadata": {},
   "outputs": [
    {
     "name": "stdout",
     "output_type": "stream",
     "text": [
      "List:  [1, 3, 3, 5, 7, 7, 9]\n",
      "Set:  {1, 3, 5, 7, 9}\n"
     ]
    }
   ],
   "source": [
    "number_list = [1,3,3,5,7,7,9]\n",
    "print('List: ',number_list)\n",
    "number_set = set(number_list)\n",
    "print('Set: ',number_set)"
   ]
  },
  {
   "cell_type": "markdown",
   "id": "7461b77e",
   "metadata": {},
   "source": [
    "70. Set Intersection: Given two sets A and B, write a Python program to find their intersection and print the common elements."
   ]
  },
  {
   "cell_type": "code",
   "execution_count": 77,
   "id": "52f8f5da",
   "metadata": {},
   "outputs": [
    {
     "name": "stdout",
     "output_type": "stream",
     "text": [
      "Set A:  {1, 3, 5, 7, 9}\n",
      "Set B:  {2, 3, 4, 7, 8}\n",
      "Set C:  {3, 7}\n"
     ]
    }
   ],
   "source": [
    "A = {1,3,5,7,9}\n",
    "print('Set A: ',A)\n",
    "B = {2,3,4,7,8}\n",
    "print('Set B: ',B)\n",
    "C = A.intersection(B)\n",
    "print('Set C: ',C)"
   ]
  },
  {
   "cell_type": "markdown",
   "id": "36c64028",
   "metadata": {},
   "source": [
    "71. Set Union: Given two sets A and B, write a Python program to find their union and print all the distinct elements from both sets."
   ]
  },
  {
   "cell_type": "code",
   "execution_count": 78,
   "id": "3a8c431f",
   "metadata": {},
   "outputs": [
    {
     "name": "stdout",
     "output_type": "stream",
     "text": [
      "Set A:  {1, 3, 5, 7, 9}\n",
      "Set B:  {2, 3, 4, 7, 8}\n",
      "Set C:  {1, 2, 3, 4, 5, 7, 8, 9}\n"
     ]
    }
   ],
   "source": [
    "A = {1,3,5,7,9}\n",
    "print('Set A: ',A)\n",
    "B = {2,3,4,7,8}\n",
    "print('Set B: ',B)\n",
    "C = A.union(B)\n",
    "print('Set C: ',C)"
   ]
  },
  {
   "cell_type": "markdown",
   "id": "4560496e",
   "metadata": {},
   "source": [
    "72. Set Difference: Given two sets A and B, write a Python program to find the difference between set A and set B (i.e., elements present in A but not in B) and print the result."
   ]
  },
  {
   "cell_type": "code",
   "execution_count": 79,
   "id": "92075058",
   "metadata": {},
   "outputs": [
    {
     "name": "stdout",
     "output_type": "stream",
     "text": [
      "Set A:  {1, 3, 5, 7, 9}\n",
      "Set B:  {2, 3, 4, 7, 8}\n",
      "Set C:  {1, 5, 9}\n"
     ]
    }
   ],
   "source": [
    "A = {1,3,5,7,9}\n",
    "print('Set A: ',A)\n",
    "B = {2,3,4,7,8}\n",
    "print('Set B: ',B)\n",
    "C = A-B\n",
    "print('Set C: ',C)"
   ]
  },
  {
   "cell_type": "markdown",
   "id": "7a754620",
   "metadata": {},
   "source": [
    "73. Set Symmetric Difference: Given two sets A and B, write a Python program to find the symmetric difference between the two sets (i.e., elements that are present in either set A or set B, but not in both) and print the result."
   ]
  },
  {
   "cell_type": "code",
   "execution_count": 80,
   "id": "67f7e981",
   "metadata": {},
   "outputs": [
    {
     "name": "stdout",
     "output_type": "stream",
     "text": [
      "Set A:  {1, 3, 5, 7, 9}\n",
      "Set B:  {2, 3, 4, 7, 8}\n",
      "Set C:  {1, 2, 4, 5, 8, 9}\n"
     ]
    }
   ],
   "source": [
    "A = {1,3,5,7,9}\n",
    "print('Set A: ',A)\n",
    "B = {2,3,4,7,8}\n",
    "print('Set B: ',B)\n",
    "C = (A-B).union(B-A)\n",
    "print('Set C: ',C)"
   ]
  },
  {
   "cell_type": "markdown",
   "id": "966739f6",
   "metadata": {},
   "source": [
    "74. Set Operations: Given three sets A, B, and C, write a Python program to find and print the intersection of A and B, the union of B and C, and the difference between C and A."
   ]
  },
  {
   "cell_type": "code",
   "execution_count": 81,
   "id": "fbf8f237",
   "metadata": {},
   "outputs": [
    {
     "name": "stdout",
     "output_type": "stream",
     "text": [
      "Set A:  {1, 3, 5, 7, 9}\n",
      "Set B:  {2, 3, 4, 7, 8}\n",
      "Set C:  {1, 2, 6, 7, 10}\n",
      "intersection A and B:  {3, 7}\n",
      "union B and C:  {1, 2, 3, 4, 6, 7, 8, 10}\n",
      "difference C - A:  {2, 10, 6}\n"
     ]
    }
   ],
   "source": [
    "A = {1,3,5,7,9}\n",
    "print('Set A: ',A)\n",
    "B = {2,3,4,7,8}\n",
    "print('Set B: ',B)\n",
    "C = {1,2,6,7,10}\n",
    "print('Set C: ',C)\n",
    "inter_sect = A.intersection(B)\n",
    "print('intersection A and B: ',inter_sect)\n",
    "union = B.union(C)\n",
    "print('union B and C: ',union)\n",
    "diff = C-A\n",
    "print('difference C - A: ',diff)"
   ]
  },
  {
   "cell_type": "markdown",
   "id": "cb699434",
   "metadata": {},
   "source": [
    "75. Set Subset Check: Given two sets A and B, write a Python program to check if set A is a subset of set B and print the result."
   ]
  },
  {
   "cell_type": "code",
   "execution_count": 82,
   "id": "e42eae15",
   "metadata": {},
   "outputs": [
    {
     "name": "stdout",
     "output_type": "stream",
     "text": [
      "Set A:  {1, 3, 5, 7, 9}\n",
      "Set B:  {3, 7}\n",
      "A subset of B:  False\n"
     ]
    }
   ],
   "source": [
    "A = {1,3,5,7,9}\n",
    "print('Set A: ',A)\n",
    "B = {3,7}\n",
    "print('Set B: ',B)\n",
    "print('A subset of B: ',A.issubset(B))"
   ]
  },
  {
   "cell_type": "markdown",
   "id": "70387a27",
   "metadata": {},
   "source": [
    "76. Set Superset Check: Given two sets A and B, write a Python program to check if set A is a superset of set B and print the result."
   ]
  },
  {
   "cell_type": "code",
   "execution_count": 83,
   "id": "22880874",
   "metadata": {},
   "outputs": [
    {
     "name": "stdout",
     "output_type": "stream",
     "text": [
      "Set A:  {1, 3, 5, 7, 9}\n",
      "Set B:  {3, 7}\n",
      "A superset of B:  True\n"
     ]
    }
   ],
   "source": [
    "A = {1,3,5,7,9}\n",
    "print('Set A: ',A)\n",
    "B = {3,7}\n",
    "print('Set B: ',B)\n",
    "print('A superset of B: ',B.issubset(A))"
   ]
  },
  {
   "cell_type": "markdown",
   "id": "e187e2f1",
   "metadata": {},
   "source": [
    "77. Set Length Check: Write a Python program that takes a set as input and prints the number of elements in the set."
   ]
  },
  {
   "cell_type": "code",
   "execution_count": 84,
   "id": "20ff2344",
   "metadata": {},
   "outputs": [
    {
     "name": "stdout",
     "output_type": "stream",
     "text": [
      "Set A:  {1, 3, 5, 7, 9}\n",
      "Element of Set A:  5\n"
     ]
    }
   ],
   "source": [
    "A = {1,3,5,7,9}\n",
    "print('Set A: ',A)\n",
    "print('Element of Set A: ',len(A))"
   ]
  },
  {
   "cell_type": "markdown",
   "id": "a5736c11",
   "metadata": {},
   "source": [
    "76. Set Membership Test: Write a Python program that takes an element as input and checks if it exists in a given set. Print “Found” if the element is present and “Not Found” otherwise."
   ]
  },
  {
   "cell_type": "code",
   "execution_count": 85,
   "id": "07b603a6",
   "metadata": {},
   "outputs": [
    {
     "name": "stdout",
     "output_type": "stream",
     "text": [
      "Set A:  {1, 3, 5, 7, 9}\n",
      "5 Found\n"
     ]
    }
   ],
   "source": [
    "A = {1,3,5,7,9}\n",
    "print('Set A: ',A)\n",
    "check_val = 5\n",
    "is_exist = False\n",
    "for i in A:\n",
    "    if i==check_val:\n",
    "        is_exist = True\n",
    "if is_exist:\n",
    "    print(check_val,'Found')\n",
    "else:\n",
    "    print(check_val,'Not Found')"
   ]
  },
  {
   "cell_type": "markdown",
   "id": "12239772",
   "metadata": {},
   "source": [
    "# Dictionary Problems"
   ]
  },
  {
   "cell_type": "markdown",
   "id": "6df8c548",
   "metadata": {},
   "source": [
    "77. Dictionary Manipulation: Given a dictionary with student names as keys and their corresponding scores as values, write a Python program to add a new student to the dictionary and update the score of an existing student."
   ]
  },
  {
   "cell_type": "code",
   "execution_count": 86,
   "id": "a9e25e98",
   "metadata": {},
   "outputs": [
    {
     "name": "stdout",
     "output_type": "stream",
     "text": [
      "{'Abrar': 75, 'Fahad': 85, 'Hasan': 55, 'jahed': 69}\n",
      "{'Abrar': 75, 'Fahad': 85, 'Hasan': 55, 'jahed': 69, 'Ahad': 72}\n",
      "{'Abrar': 75, 'Fahad': 85, 'Hasan': 55, 'jahed': 69, 'Ahad': 72, 'Noman': 49}\n",
      "{'Abrar': 75, 'Fahad': 80, 'Hasan': 55, 'jahed': 69, 'Ahad': 72, 'Noman': 49}\n",
      "{'Abrar': 75, 'Fahad': 80, 'Hasan': 78, 'jahed': 69, 'Ahad': 72, 'Noman': 49}\n"
     ]
    }
   ],
   "source": [
    "std_dic = {'Abrar':75,'Fahad':85,'Hasan':55,'jahed':69}\n",
    "print(std_dic)\n",
    "#add\n",
    "std_dic['Ahad']=72\n",
    "print(std_dic)\n",
    "std_dic.update({'Noman':49})\n",
    "print(std_dic)\n",
    "#update\n",
    "std_dic['Fahad']=80\n",
    "print(std_dic)\n",
    "std_dic.update({'Hasan':78})\n",
    "print(std_dic)"
   ]
  },
  {
   "cell_type": "markdown",
   "id": "da9b0a46",
   "metadata": {},
   "source": [
    "78. Dictionary Keys and Values: Write a Python program that takes a dictionary as input and prints all the keys and values in separate lines."
   ]
  },
  {
   "cell_type": "code",
   "execution_count": 87,
   "id": "f24cc8f4",
   "metadata": {},
   "outputs": [
    {
     "name": "stdout",
     "output_type": "stream",
     "text": [
      "Keys:  Abir,Sakib,Fahad,\n",
      "Values:  Manager,Player,Student,"
     ]
    }
   ],
   "source": [
    "emp_dic = {}\n",
    "emp_list =['Abir','Manager','Sakib','Player','Fahad','Student']\n",
    "#while True:\n",
    "#    go = int(input('Want to entry(1/0): '))\n",
    "#    if go:\n",
    "#        key = input('Type name: ')\n",
    "#        val = input('Type designation: ')\n",
    "#        emp_dic[key]=val\n",
    "#    else:\n",
    "#        break\n",
    "\n",
    "i=0     \n",
    "while i<len(emp_list):\n",
    "    key = emp_list[i]\n",
    "    i = i + 1\n",
    "    val = emp_list[i]\n",
    "    i = i + 1\n",
    "    emp_dic[key]=val\n",
    "\n",
    "\n",
    "\n",
    "print('Keys: ',end=' ')\n",
    "for key in emp_dic:\n",
    "    print(key,end=',')\n",
    "\n",
    "print()\n",
    "print('Values: ',end=' ')\n",
    "for key in emp_dic:\n",
    "    print(emp_dic[key],end=',')\n"
   ]
  },
  {
   "cell_type": "markdown",
   "id": "97272de9",
   "metadata": {},
   "source": [
    "79. Dictionary Length: Write a Python program to calculate and print the number of key-value pairs in a given dictionary."
   ]
  },
  {
   "cell_type": "code",
   "execution_count": 88,
   "id": "e26556e0",
   "metadata": {},
   "outputs": [
    {
     "name": "stdout",
     "output_type": "stream",
     "text": [
      "{'Abrar': 75, 'Fahad': 85, 'Hasan': 55, 'jahed': 69}\n",
      "Number of keyvalue pairs:  4\n"
     ]
    }
   ],
   "source": [
    "std_dic = {'Abrar':75,'Fahad':85,'Hasan':55,'jahed':69}\n",
    "print(std_dic)\n",
    "print('Number of keyvalue pairs: ',len(std_dic))"
   ]
  },
  {
   "cell_type": "markdown",
   "id": "3eb4ac9b",
   "metadata": {},
   "source": [
    "80. Dictionary Value Search: Given a dictionary of items and their prices, write a Python program to search for an item based on its price and print the item’s name."
   ]
  },
  {
   "cell_type": "code",
   "execution_count": 89,
   "id": "e5b0dd29",
   "metadata": {},
   "outputs": [
    {
     "name": "stdout",
     "output_type": "stream",
     "text": [
      "{'Chocolate': 120, 'Ice-Creame': 65, 'Juice': 80, 'Pasta': 150}\n",
      "Search Item:  Ice-Creame\n"
     ]
    }
   ],
   "source": [
    "item_dic = {'Chocolate':120,'Ice-Creame': 65,'Juice':80,'Pasta':150}\n",
    "print(item_dic)\n",
    "for item in item_dic:\n",
    "    if item_dic[item]==65:       \n",
    "        print('Search Item: ',item)\n",
    "        break\n"
   ]
  },
  {
   "cell_type": "markdown",
   "id": "168a889f",
   "metadata": {},
   "source": [
    "81. Dictionary Merging: Given two dictionaries, write a Python program to merge them into a single dictionary and print the result."
   ]
  },
  {
   "cell_type": "code",
   "execution_count": 90,
   "id": "d84bd976",
   "metadata": {},
   "outputs": [
    {
     "name": "stdout",
     "output_type": "stream",
     "text": [
      "{'Chocolate': 120, 'Ice-Creame': 65}\n",
      "{'Juice': 80, 'Pasta': 150}\n",
      "{'Chocolate': 120, 'Ice-Creame': 65, 'Juice': 80, 'Pasta': 150}\n"
     ]
    }
   ],
   "source": [
    "item_dic_1 = {'Chocolate':120,'Ice-Creame': 65}\n",
    "print(item_dic_1)\n",
    "item_dic_2 = {'Juice':80,'Pasta':150}\n",
    "print(item_dic_2)\n",
    "#item_dic_1.update(item_dic_2)\n",
    "item_dic_1 = item_dic_1 | item_dic_2\n",
    "print(item_dic_1)"
   ]
  },
  {
   "cell_type": "markdown",
   "id": "445bb4b5",
   "metadata": {},
   "source": [
    "82. Dictionary Key Removal: Given a dictionary of items and their quantities, write a Python program to remove a specific item from the dictionary based on user input."
   ]
  },
  {
   "cell_type": "code",
   "execution_count": 91,
   "id": "6440830c",
   "metadata": {},
   "outputs": [
    {
     "name": "stdout",
     "output_type": "stream",
     "text": [
      "{'Chocolate': 120, 'Ice-Creame': 65, 'Juice': 80, 'Pasta': 150}\n",
      "{'Chocolate': 120, 'Ice-Creame': 65, 'Pasta': 150}\n"
     ]
    }
   ],
   "source": [
    "item_dic = {'Chocolate':120,'Ice-Creame': 65,'Juice':80,'Pasta':150}\n",
    "print(item_dic)\n",
    "#del item_dic['Juice']\n",
    "item_dic.pop('Juice')\n",
    "print(item_dic)"
   ]
  },
  {
   "cell_type": "markdown",
   "id": "085d0812",
   "metadata": {},
   "source": [
    "83. Dictionary Sorting: Given a dictionary with names as keys and corresponding ages as values, write a Python program to sort the dictionary based on age in ascending order."
   ]
  },
  {
   "cell_type": "code",
   "execution_count": 92,
   "id": "0d7a34f5",
   "metadata": {},
   "outputs": [
    {
     "name": "stdout",
     "output_type": "stream",
     "text": [
      "{'Omar': 25, 'Amir': 45, 'Sakib': 38, 'Riyad': 30}\n",
      "{'Omar': 25, 'Riyad': 30, 'Sakib': 38, 'Amir': 45}\n"
     ]
    }
   ],
   "source": [
    "cust_dic = {'Omar':25,'Amir':45,'Sakib':38,'Riyad':30}\n",
    "print(cust_dic)\n",
    "ages = list(cust_dic.values())\n",
    "ages.sort()\n",
    "cust_dic_sorted = {}\n",
    "for i in ages:\n",
    "    for key, val in cust_dic.items():\n",
    "        if val ==i:\n",
    "            cust_dic_sorted[key]=i\n",
    "            break\n",
    "print(cust_dic_sorted)"
   ]
  },
  {
   "cell_type": "markdown",
   "id": "209a3d6f",
   "metadata": {},
   "source": [
    "84. Dictionary Frequency Count: Write a Python program that takes a string as input and creates a dictionary containing each character as a key and its frequency as the value."
   ]
  },
  {
   "cell_type": "code",
   "execution_count": 93,
   "id": "b7b77139",
   "metadata": {},
   "outputs": [
    {
     "name": "stdout",
     "output_type": "stream",
     "text": [
      "{'s': 2, 'h': 4, 'i': 2, 'a': 2, 'b': 1, 'd': 1}\n"
     ]
    }
   ],
   "source": [
    "#str_inp = input('Type string: ')\n",
    "str_inp = 'shihabshahid'\n",
    "str_list = list(str_inp)\n",
    "count_val = len(str_list)\n",
    "char_count_dic = {}\n",
    "i=0\n",
    "while i<count_val:\n",
    "    j=i+1\n",
    "    count_number = 1\n",
    "    if str_list[i]!=0:\n",
    "        while j<count_val:   \n",
    "            if str_list[i]==str_list[j]:\n",
    "                str_list[j]=0\n",
    "                count_number+=1\n",
    "            j+=1 \n",
    "        char_count_dic[str_list[i]]=count_number\n",
    "        str_list[i]=0\n",
    "    i+=1\n",
    "print(char_count_dic)"
   ]
  },
  {
   "cell_type": "markdown",
   "id": "2e4c174e",
   "metadata": {},
   "source": [
    "85. Dictionary Comprehension: Given a list of integers, write a Python program to create a dictionary where the keys are the elements from the list, and the values are their squares."
   ]
  },
  {
   "cell_type": "code",
   "execution_count": 94,
   "id": "4be070f5",
   "metadata": {},
   "outputs": [
    {
     "name": "stdout",
     "output_type": "stream",
     "text": [
      "[1, 2, 3, 4, 5]\n",
      "{1: 1, 2: 4, 3: 9, 4: 16, 5: 25}\n"
     ]
    }
   ],
   "source": [
    "number_list = [1,2,3,4,5]\n",
    "print(number_list)\n",
    "number_sqr_dic = {i: i*i for i in number_list}\n",
    "print(number_sqr_dic)"
   ]
  },
  {
   "cell_type": "markdown",
   "id": "81f81cb9",
   "metadata": {},
   "source": [
    "86. Dictionary Key Check: Write a Python program that takes a key as input and checks if it exists in a given dictionary. Print “Key Found” if the key is present and “Key Not Found” otherwise."
   ]
  },
  {
   "cell_type": "code",
   "execution_count": 95,
   "id": "96cf8a7a",
   "metadata": {},
   "outputs": [
    {
     "name": "stdout",
     "output_type": "stream",
     "text": [
      "Key Found\n"
     ]
    }
   ],
   "source": [
    "cust_dic = {1:'Amir',2:'Sakib',3:'Kamal',4:'Riyad'}\n",
    "#heck_key = int(input('Type key: '))\n",
    "check_key = 3\n",
    "is_exist = False\n",
    "for key in cust_dic:\n",
    "    if check_key==key:\n",
    "        is_exist = True\n",
    "if is_exist:\n",
    "    print('Key Found')\n",
    "else:\n",
    "    print('Key not Found')\n"
   ]
  },
  {
   "cell_type": "markdown",
   "id": "88cadaed",
   "metadata": {},
   "source": [
    "# Nested Dictionary Problems"
   ]
  },
  {
   "cell_type": "markdown",
   "id": "3a349327",
   "metadata": {},
   "source": [
    "87. Access Nested Dictionary: Given a nested dictionary containing student details, write a Python program to access and print specific information such as a student’s name, age, and address."
   ]
  },
  {
   "cell_type": "code",
   "execution_count": 96,
   "id": "7fef3e48",
   "metadata": {},
   "outputs": [
    {
     "name": "stdout",
     "output_type": "stream",
     "text": [
      "student1\n",
      "----------\n",
      "name  :  Abir\n",
      "age  :  20\n",
      "address  :  city\n",
      "==========\n",
      "student2\n",
      "----------\n",
      "name  :  Fahad\n",
      "age  :  25\n",
      "address  :  dhk\n",
      "==========\n",
      "student3\n",
      "----------\n",
      "name  :  Hasan\n",
      "age  :  22\n",
      "address  :  ctg\n",
      "==========\n"
     ]
    }
   ],
   "source": [
    "std_dic = {\n",
    "    'student1': {\n",
    "        'name': 'Abir',\n",
    "        'age': 20,\n",
    "        'address': 'city'\n",
    "    },\n",
    "    'student2': {\n",
    "        'name': 'Fahad',\n",
    "        'age': 25,\n",
    "        'address': 'dhk'\n",
    "    },\n",
    "    'student3': {\n",
    "        'name': 'Hasan',\n",
    "        'age': 22,\n",
    "        'address': 'ctg'\n",
    "    }\n",
    "    \n",
    "}\n",
    "#print(std_dic)\n",
    "\n",
    "#for i in std_dic:\n",
    "#    print(i)\n",
    "    \n",
    "#for key, val in std_dic.items():\n",
    "#    print(key,' ',val)\n",
    "    \n",
    "#for key, val in std_dic.items():\n",
    "#    print(key)\n",
    "#    for key, val in val.items():\n",
    "#        print(key,' ',val)\n",
    " \n",
    "    \n",
    "for key, val in std_dic.items():\n",
    "    print(key)\n",
    "    print('----------')\n",
    "    for key, val in val.items():\n",
    "        print(key,' : ',val)\n",
    "    print('==========')   \n",
    "        \n",
    "        "
   ]
  },
  {
   "cell_type": "markdown",
   "id": "8d6dd426",
   "metadata": {},
   "source": [
    "88. Nested Dictionary Length: Write a Python program to calculate and print the total number of key-value pairs in a nested dictionary."
   ]
  },
  {
   "cell_type": "code",
   "execution_count": 97,
   "id": "431fc3d9",
   "metadata": {},
   "outputs": [
    {
     "name": "stdout",
     "output_type": "stream",
     "text": [
      "Total:  3\n",
      "Sub Total:  3\n",
      "Sub Total:  3\n",
      "Sub Total:  3\n"
     ]
    }
   ],
   "source": [
    "std_dic = {\n",
    "    'student1': {\n",
    "        'name': 'Abir',\n",
    "        'age': 20,\n",
    "        'address': 'city'\n",
    "    },\n",
    "    'student2': {\n",
    "        'name': 'Fahad',\n",
    "        'age': 25,\n",
    "        'address': 'dhk'\n",
    "    },\n",
    "    'student3': {\n",
    "        'name': 'Hasan',\n",
    "        'age': 22,\n",
    "        'address': 'ctg'\n",
    "    }\n",
    "    \n",
    "}\n",
    "print('Total: ',len(std_dic))\n",
    "\n",
    "for key,value in std_dic.items():\n",
    "    print('Sub Total: ',len(value))"
   ]
  },
  {
   "cell_type": "markdown",
   "id": "1fa350fc",
   "metadata": {},
   "source": [
    "89. Nested Dictionary Update: Given a nested dictionary of employee details, write a Python program to update an employee’s salary based on their employee ID."
   ]
  },
  {
   "cell_type": "code",
   "execution_count": 98,
   "id": "59247c1f",
   "metadata": {},
   "outputs": [
    {
     "name": "stdout",
     "output_type": "stream",
     "text": [
      "person1\n",
      "----------\n",
      "id  :  1\n",
      "name  :  Abir\n",
      "designation  :  manager\n",
      "salary  :  30000\n",
      "==========\n",
      "person2\n",
      "----------\n",
      "id  :  2\n",
      "name  :  Fahad\n",
      "designation  :  exicutive\n",
      "salary  :  20000\n",
      "==========\n",
      "person3\n",
      "----------\n",
      "id  :  3\n",
      "name  :  Hasan\n",
      "designation  :  sr. exicutive\n",
      "salary  :  25000\n",
      "==========\n",
      "----------id 2: salary updated------------\n",
      "person1\n",
      "----------\n",
      "id  :  1\n",
      "name  :  Abir\n",
      "designation  :  manager\n",
      "salary  :  30000\n",
      "==========\n",
      "person2\n",
      "----------\n",
      "id  :  2\n",
      "name  :  Fahad\n",
      "designation  :  exicutive\n",
      "salary  :  22000.0\n",
      "==========\n",
      "person3\n",
      "----------\n",
      "id  :  3\n",
      "name  :  Hasan\n",
      "designation  :  sr. exicutive\n",
      "salary  :  27500.0\n",
      "==========\n"
     ]
    }
   ],
   "source": [
    "emp_dic = {\n",
    "    'person1': {\n",
    "        'id':1,\n",
    "        'name': 'Abir',\n",
    "        'designation': 'manager',\n",
    "        'salary': 30000\n",
    "    },\n",
    "    'person2': {\n",
    "        'id':2,\n",
    "        'name': 'Fahad',\n",
    "        'designation': 'exicutive',\n",
    "        'salary': 20000\n",
    "    },\n",
    "    'person3': {\n",
    "        'id':3,\n",
    "        'name': 'Hasan',\n",
    "        'designation': 'sr. exicutive',\n",
    "        'salary': 25000\n",
    "    } \n",
    "}\n",
    "\n",
    "for key, val in emp_dic.items():\n",
    "    print(key)\n",
    "    print('----------')\n",
    "    for key, val in val.items():\n",
    "        print(key,' : ',val)\n",
    "    print('==========')\n",
    "id = 0\n",
    "for key, val in emp_dic.items():\n",
    "    k=key\n",
    "    for key, val in val.items():\n",
    "        if val==2:\n",
    "            id=val\n",
    "        if id==2 and key=='salary':\n",
    "            emp_dic[k][key] = val+val*.1 \n",
    "print('----------id 2: salary updated------------')\n",
    "for key, val in emp_dic.items():\n",
    "    print(key)\n",
    "    print('----------')\n",
    "    for key, val in val.items():\n",
    "        print(key,' : ',val)\n",
    "    print('==========')"
   ]
  },
  {
   "cell_type": "markdown",
   "id": "ae59662b",
   "metadata": {},
   "source": [
    "90. Nested Dictionary Sorting: Given a nested dictionary containing product details (product name, price, and quantity), write a Python program to sort the products based on their prices in ascending order."
   ]
  },
  {
   "cell_type": "code",
   "execution_count": 99,
   "id": "8f841fb6",
   "metadata": {},
   "outputs": [
    {
     "name": "stdout",
     "output_type": "stream",
     "text": [
      "-----original------\n",
      "{'product1': {'name': 'Cake', 'price': 250, 'quantity': 100}, 'product2': {'name': 'Ice Cream', 'price': 150, 'quantity': 200}, 'product3': {'name': 'Cheps', 'price': 50, 'quantity': 50}, 'product4': {'name': 'Juice', 'price': 120, 'quantity': 60}}\n",
      "-----sorted base price------\n",
      "{'product3': {'name': 'Cheps', 'price': 50, 'quantity': 50}, 'product4': {'name': 'Juice', 'price': 120, 'quantity': 60}, 'product2': {'name': 'Ice Cream', 'price': 150, 'quantity': 200}, 'product1': {'name': 'Cake', 'price': 250, 'quantity': 100}}\n"
     ]
    }
   ],
   "source": [
    "product_dic = {\n",
    "    'product1': {\n",
    "        'name': 'Cake',\n",
    "        'price': 250,\n",
    "        'quantity': 100\n",
    "    },\n",
    "    'product2': {\n",
    "        'name': 'Ice Cream',\n",
    "        'price': 150,\n",
    "        'quantity': 200\n",
    "    },\n",
    "    'product3': {\n",
    "        'name': 'Cheps',\n",
    "        'price': 50,\n",
    "        'quantity': 50\n",
    "    },\n",
    "    'product4': {\n",
    "        'name': 'Juice',\n",
    "        'price': 120,\n",
    "        'quantity': 60\n",
    "    },\n",
    "}\n",
    "print('-----original------')\n",
    "print(product_dic)\n",
    "#for key, val in product_dic.items():\n",
    "#    print(key)\n",
    "#    print('----------')\n",
    "#    for key, val in val.items():\n",
    "#       print(key,' : ',val)\n",
    "#   print('==========')\n",
    "\n",
    "sorted_dict = dict(sorted(product_dic.items(), key=lambda x: x[1]['price']))\n",
    "\n",
    "print('-----sorted base price------')\n",
    "print(sorted_dict)\n",
    "#for key, val in sorted_dict.items():\n",
    "#    print(key)\n",
    "#    print('----------')\n",
    "#    for key, val in val.items():\n",
    "#        print(key,' : ',val)\n",
    "#    print('==========')"
   ]
  },
  {
   "cell_type": "markdown",
   "id": "0ae43469",
   "metadata": {},
   "source": [
    "91. Nested Dictionary Key Search: Write a Python program that takes a key as input and searches for it in a nested dictionary. If found, print the corresponding value, otherwise, print “Key Not Found.”"
   ]
  },
  {
   "cell_type": "code",
   "execution_count": 100,
   "id": "b2cab249",
   "metadata": {},
   "outputs": [
    {
     "name": "stdout",
     "output_type": "stream",
     "text": [
      "person1\n",
      "----------\n",
      "id  :  1\n",
      "name  :  Abir\n",
      "designation  :  manager\n",
      "salary  :  30000\n",
      "==========\n",
      "person2\n",
      "----------\n",
      "id  :  2\n",
      "name  :  Fahad\n",
      "designation  :  exicutive\n",
      "salary  :  20000\n",
      "==========\n",
      "person3\n",
      "----------\n",
      "id  :  3\n",
      "name  :  Hasan\n",
      "designation  :  sr. exicutive\n",
      "salary  :  25000\n",
      "==========\n",
      "----------Show salary search by id:  ------------\n",
      "id:  3 , Salary:  25000\n"
     ]
    }
   ],
   "source": [
    "emp_dic = {\n",
    "    'person1': {\n",
    "        'id':1,\n",
    "        'name': 'Abir',\n",
    "        'designation': 'manager',\n",
    "        'salary': 30000\n",
    "    },\n",
    "    'person2': {\n",
    "        'id':2,\n",
    "        'name': 'Fahad',\n",
    "        'designation': 'exicutive',\n",
    "        'salary': 20000\n",
    "    },\n",
    "    'person3': {\n",
    "        'id':3,\n",
    "        'name': 'Hasan',\n",
    "        'designation': 'sr. exicutive',\n",
    "        'salary': 25000\n",
    "    } \n",
    "}\n",
    "\n",
    "for key, val in emp_dic.items():\n",
    "    print(key)\n",
    "    print('----------')\n",
    "    for key, val in val.items():\n",
    "        print(key,' : ',val)\n",
    "    print('==========')\n",
    "print('----------Show salary search by id:  ------------')\n",
    "#search_id = int(input('Type id: '))\n",
    "search_id = 3\n",
    "id = 0\n",
    "is_exist = False\n",
    "for key, val in emp_dic.items():\n",
    "    k=key\n",
    "    for key, val in val.items():\n",
    "        if val==search_id:\n",
    "            id=val\n",
    "            is_exist = True\n",
    "        if id==search_id and key=='salary' and is_exist:\n",
    "            is_exist = False\n",
    "            print('id: ',id,', Salary: ',val)\n",
    "            break\n",
    "if id==0:\n",
    "    print('Not found')\n"
   ]
  },
  {
   "cell_type": "markdown",
   "id": "9de75276",
   "metadata": {},
   "source": [
    "# Break & Continue: "
   ]
  },
  {
   "cell_type": "markdown",
   "id": "ab51c6d0",
   "metadata": {},
   "source": [
    "92. Prime Number Checker: Write a Python program that takes a number as input and determines if it is a prime number or not. Use a `for` loop to check for factors. If a factor is found, `break` out of the loop."
   ]
  },
  {
   "cell_type": "code",
   "execution_count": 101,
   "id": "12e2c42b",
   "metadata": {},
   "outputs": [
    {
     "name": "stdout",
     "output_type": "stream",
     "text": [
      "13  is prime number\n"
     ]
    }
   ],
   "source": [
    "#number = int(input('Type number: '))\n",
    "number = 13\n",
    "is_prime = True\n",
    "for i in range(2,number):\n",
    "    if number%i==0 and number!=2:\n",
    "        is_prime = False\n",
    "        break\n",
    "if is_prime:\n",
    "    print(number,' is prime number')\n",
    "else:\n",
    "    print(number,' is not prime number')\n"
   ]
  },
  {
   "cell_type": "markdown",
   "id": "56e77c92",
   "metadata": {},
   "source": [
    "93. Even Number Printer: Write a Python program to print all even numbers from 1 to 20. Use a `for` loop and `continue` to skip odd numbers."
   ]
  },
  {
   "cell_type": "code",
   "execution_count": 102,
   "id": "f0479135",
   "metadata": {},
   "outputs": [
    {
     "name": "stdout",
     "output_type": "stream",
     "text": [
      "2 4 6 8 10 12 14 16 18 20 "
     ]
    }
   ],
   "source": [
    "for i in range(1,21):\n",
    "    if i%2!=0:\n",
    "        continue\n",
    "    print(i,end=' ')"
   ]
  },
  {
   "cell_type": "markdown",
   "id": "7df9e481",
   "metadata": {},
   "source": [
    "94. Password Validator: Write a Python program that takes a password as input and checks if it meets the following criteria: at least 8 characters long, contains both uppercase and lowercase letters, and has at least one digit. If the password is valid, print “Password accepted.” If not, use `continue` to prompt the user to enter a valid password."
   ]
  },
  {
   "cell_type": "code",
   "execution_count": 103,
   "id": "429f59ab",
   "metadata": {},
   "outputs": [
    {
     "name": "stdout",
     "output_type": "stream",
     "text": [
      "Password accepted\n"
     ]
    }
   ],
   "source": [
    "def is_eight_char(cl):\n",
    "    if len(cl)>=8:\n",
    "        return True\n",
    "    return False\n",
    "def is_upper_case(cl):\n",
    "    for i in cl:\n",
    "        if ord(i)>=65 and ord(i)<=89:\n",
    "            return True\n",
    "    return False\n",
    "def is_lower_case(cl):\n",
    "    for i in cl:\n",
    "        if ord(i)>=97 and ord(i)<=122:\n",
    "            return True\n",
    "    return False\n",
    "def is_number(cl):\n",
    "    for i in cl:\n",
    "        if ord(i)>=48 and ord(i)<=57:\n",
    "            return True\n",
    "    return False\n",
    "\n",
    "#password = input('Type password: ')\n",
    "password = 'Abcd@1234'\n",
    "char_list = list(password)\n",
    "if is_eight_char(char_list) and is_upper_case(char_list) and is_lower_case(char_list) and is_number(char_list):\n",
    "    print('Password accepted')\n",
    "else:\n",
    "    print('Password not accepted')"
   ]
  },
  {
   "cell_type": "markdown",
   "id": "b05d6a3c",
   "metadata": {},
   "source": [
    "95. Divisible by 3 or 5: Write a Python program to print all numbers from 1 to 50 that are divisible by either 3 or 5. Use a `for` loop and `continue` to skip numbers that are not divisible by either 3 or 5."
   ]
  },
  {
   "cell_type": "code",
   "execution_count": 104,
   "id": "75c50051",
   "metadata": {},
   "outputs": [
    {
     "name": "stdout",
     "output_type": "stream",
     "text": [
      "3,5,6,9,10,12,15,18,20,21,24,25,27,30,33,35,36,39,40,42,45,48,50,"
     ]
    }
   ],
   "source": [
    "for i in range(1,51):\n",
    "    if i%3==0 or i%5==0:\n",
    "        print(i,end=',')\n",
    "    else:\n",
    "        continue"
   ]
  },
  {
   "cell_type": "markdown",
   "id": "c4b70de4",
   "metadata": {},
   "source": [
    "96. Positive Number Sum: Write a Python program that takes positive numbers as input until a negative number is entered. Then, calculate and print the sum of all positive numbers entered. Use a `while` loop and `break` to exit the loop when a negative number is encountered."
   ]
  },
  {
   "cell_type": "code",
   "execution_count": 105,
   "id": "00ad5921",
   "metadata": {},
   "outputs": [
    {
     "name": "stdout",
     "output_type": "stream",
     "text": [
      "Sum of all positive numbers:  12\n"
     ]
    }
   ],
   "source": [
    "num_list = [1,4,7,-8,3,5]\n",
    "sum = 0\n",
    "#while True:\n",
    "#    number = int(input('Type number: '))\n",
    "#    if number<0:\n",
    "#        break\n",
    "#    sum = sum + number\n",
    "for number in num_list:\n",
    "    if number<0:\n",
    "        break\n",
    "    sum = sum + number\n",
    "print('Sum of all positive numbers: ',sum)"
   ]
  },
  {
   "cell_type": "markdown",
   "id": "b11cadc8",
   "metadata": {},
   "source": [
    "97. Word Palindrome Checker: Write a Python program that takes a word as input and checks if it is a palindrome (reads the same forwards and backward). Use `continue` to skip checking the word if its length is less than 3 characters."
   ]
  },
  {
   "cell_type": "code",
   "execution_count": 106,
   "id": "d0be4274",
   "metadata": {},
   "outputs": [
    {
     "name": "stdout",
     "output_type": "stream",
     "text": [
      "Not palindrome\n"
     ]
    }
   ],
   "source": [
    "#word = input('Type word: ')\n",
    "word = 'shihab'\n",
    "char_list = list(word)\n",
    "if len(char_list)<3:\n",
    "    print('Word is less than 3 char')\n",
    "else:\n",
    "    i = 0\n",
    "    j = len(char_list)-1\n",
    "    c = len(char_list)//2\n",
    "    m = 0\n",
    "    while i<c:\n",
    "        if char_list[i]==char_list[j]:\n",
    "            m=m+1\n",
    "        i=i+1\n",
    "        j=j-1\n",
    "    if m==c:\n",
    "        print('Palindrome')\n",
    "    else:\n",
    "        print('Not palindrome')"
   ]
  },
  {
   "cell_type": "markdown",
   "id": "7f2c9cb5",
   "metadata": {},
   "source": [
    "98. Odd Number Finder: Write a Python program to find the first odd number from a list of integers. Use a `for` loop and `break` to stop the loop when the first odd number is found."
   ]
  },
  {
   "cell_type": "code",
   "execution_count": 107,
   "id": "50c0c533",
   "metadata": {},
   "outputs": [
    {
     "name": "stdout",
     "output_type": "stream",
     "text": [
      "9  is first odd number\n"
     ]
    }
   ],
   "source": [
    "num_list = [4,8,9,6,3,2,10]\n",
    "for i in num_list:\n",
    "    if i%2!=0:\n",
    "        print(i,' is first odd number')\n",
    "        break"
   ]
  },
  {
   "cell_type": "markdown",
   "id": "1d88f079",
   "metadata": {},
   "source": [
    "99. Number Guessing Game: Write a Python program that generates a random number between 1 and 100 and lets the user guess the number. Use a `while` loop, `break` when the correct number is guessed, and `continue` to keep prompting the user until they guess correctly."
   ]
  },
  {
   "cell_type": "code",
   "execution_count": 108,
   "id": "a4785111",
   "metadata": {},
   "outputs": [
    {
     "name": "stdout",
     "output_type": "stream",
     "text": [
      "Random:  6\n",
      "Correct number is guessed\n"
     ]
    }
   ],
   "source": [
    "from random import *\n",
    "rand_num = randint(1, 100)\n",
    "num_list = [i for i in range(1,101)]\n",
    "print('Random: ',rand_num)\n",
    "#while True:\n",
    "#    number = int(input('Type Number: '))\n",
    "#    if rand_num==number:\n",
    "#        print('Correct number is guessed')\n",
    "#        break;\n",
    "for number in num_list:\n",
    "    if rand_num==number:\n",
    "        print('Correct number is guessed')\n",
    "        break;"
   ]
  },
  {
   "cell_type": "markdown",
   "id": "2de7b8c3",
   "metadata": {},
   "source": [
    "100. Vowel Counter: Write a Python program that takes a string as input and counts the number of vowels (a, e, i, o, u) in it. Use a `for` loop and `continue` to skip counting non-vowel characters."
   ]
  },
  {
   "cell_type": "code",
   "execution_count": 109,
   "id": "5a82b33f",
   "metadata": {},
   "outputs": [
    {
     "name": "stdout",
     "output_type": "stream",
     "text": [
      "Number vowel:  4\n"
     ]
    }
   ],
   "source": [
    "#text = input('Type text: ')\n",
    "text = 'shihabshahid'\n",
    "char_list = list(text)\n",
    "c = 0\n",
    "for i in char_list:\n",
    "    if i=='a' or i=='e' or i=='i' or i=='o' or i=='u':\n",
    "        c = c + 1\n",
    "    else:\n",
    "        continue\n",
    "print('Number vowel: ',c)"
   ]
  },
  {
   "cell_type": "markdown",
   "id": "8c618dc2",
   "metadata": {},
   "source": [
    "101. Unique Characters: Write a Python program that takes a string as input and checks if it contains all unique characters (no character repeats). Use a `for` loop and `break` when a character repeats."
   ]
  },
  {
   "cell_type": "code",
   "execution_count": 110,
   "id": "93bf033e",
   "metadata": {},
   "outputs": [
    {
     "name": "stdout",
     "output_type": "stream",
     "text": [
      "abcd  is contain uniqe char\n"
     ]
    }
   ],
   "source": [
    "#text = input('Type text: ')\n",
    "text = 'abcd'\n",
    "char_list = list(text)\n",
    "c = 1\n",
    "is_repeat = True\n",
    "for i in char_list:\n",
    "    j = c\n",
    "    while j<len(char_list):\n",
    "        if i==char_list[j]:\n",
    "            print(i,' is contain repeated char')\n",
    "            is_repeat = False\n",
    "            break\n",
    "        j = j + 1\n",
    "    c = c + 1\n",
    "if is_repeat:\n",
    "    print(text,' is contain uniqe char')      "
   ]
  },
  {
   "cell_type": "markdown",
   "id": "9a7b3841",
   "metadata": {},
   "source": [
    "# Functions Problems:"
   ]
  },
  {
   "cell_type": "markdown",
   "id": "05cb9728",
   "metadata": {},
   "source": [
    "102. Factorial Calculator: Write a Python function called `factorial` that takes an integer as input and returns its factorial. Test the function with different values."
   ]
  },
  {
   "cell_type": "code",
   "execution_count": 111,
   "id": "584b40c1",
   "metadata": {},
   "outputs": [
    {
     "name": "stdout",
     "output_type": "stream",
     "text": [
      "120\n"
     ]
    }
   ],
   "source": [
    "def factorial(n):\n",
    "    if n<1:\n",
    "        return 1\n",
    "    else:\n",
    "        return n*factorial(n-1)\n",
    "#number = int(input('Type number: '))\n",
    "number = 5\n",
    "print(factorial(number))"
   ]
  },
  {
   "cell_type": "markdown",
   "id": "5dd6b484",
   "metadata": {},
   "source": [
    "103. Palindrome Checker: Write a Python function called `is_palindrome` that takes a string as input and returns `True` if it is a palindrome and `False` otherwise. Test the function with different words."
   ]
  },
  {
   "cell_type": "code",
   "execution_count": 112,
   "id": "52092b9a",
   "metadata": {},
   "outputs": [
    {
     "name": "stdout",
     "output_type": "stream",
     "text": [
      "Palindrome\n"
     ]
    }
   ],
   "source": [
    "def is_palindrome(char_list):\n",
    "    i = 0\n",
    "    j = len(char_list)-1\n",
    "    c = len(char_list)//2\n",
    "    m = 0\n",
    "    while i<c:\n",
    "        if char_list[i]==char_list[j]:\n",
    "            m=m+1\n",
    "        i=i+1\n",
    "        j=j-1\n",
    "    if m==c:\n",
    "        return True\n",
    "    else:\n",
    "        return False  \n",
    "    \n",
    "#word = input('Type word: ')\n",
    "word = 'madam'\n",
    "char_list = list(word)\n",
    "if is_palindrome(char_list):\n",
    "    print('Palindrome')\n",
    "else:\n",
    "    print('Not palindrome')"
   ]
  },
  {
   "cell_type": "markdown",
   "id": "05192c89",
   "metadata": {},
   "source": [
    "104. Even or Odd Checker: Write a Python function called `even_or_odd` that takes an integer as input and returns “Even” if the number is even and “Odd” if the number is odd. Test the function with different numbers."
   ]
  },
  {
   "cell_type": "code",
   "execution_count": 113,
   "id": "3c6dd9de",
   "metadata": {},
   "outputs": [
    {
     "name": "stdout",
     "output_type": "stream",
     "text": [
      "Odd number\n"
     ]
    }
   ],
   "source": [
    "def even_or_odd(n):\n",
    "    if n%2==0:\n",
    "        return True\n",
    "    else:\n",
    "        return False\n",
    "#number = int(input('Type number: '))\n",
    "number = 23\n",
    "if even_or_odd(number):\n",
    "    print('Even number')\n",
    "else:\n",
    "    print('Odd number')"
   ]
  },
  {
   "cell_type": "markdown",
   "id": "8c7e9147",
   "metadata": {},
   "source": [
    "105. List Sum Calculator: Write a Python function called `list_sum` that takes a list of integers as input and returns the sum of all elements in the list. Test the function with different lists."
   ]
  },
  {
   "cell_type": "code",
   "execution_count": 114,
   "id": "450a9224",
   "metadata": {},
   "outputs": [
    {
     "name": "stdout",
     "output_type": "stream",
     "text": [
      "42\n"
     ]
    }
   ],
   "source": [
    "def list_sum(num_list):\n",
    "    sum = 0\n",
    "    for i in num_list:\n",
    "        sum = sum + i\n",
    "    return sum\n",
    "num_list = [4,8,9,6,3,2,10]\n",
    "print(list_sum(num_list))"
   ]
  },
  {
   "cell_type": "markdown",
   "id": "1a28c549",
   "metadata": {},
   "source": [
    "106. Greatest Common Divisor (GCD) Calculator: Write a Python function called `gcd` that takes two integers as input and returns their greatest common divisor. Test the function with different pairs of numbers."
   ]
  },
  {
   "cell_type": "code",
   "execution_count": 115,
   "id": "b1111af3",
   "metadata": {},
   "outputs": [
    {
     "name": "stdout",
     "output_type": "stream",
     "text": [
      "12\n"
     ]
    }
   ],
   "source": [
    "def gcd(n1,n2):\n",
    "    if(n2 == 0):\n",
    "        return n1\n",
    "    else:\n",
    "        return gcd(n2, n1 % n2)\n",
    "#num_1 = int(input('Type number 1: '))\n",
    "#num_2 = int(input('Type number 2: '))\n",
    "num_1 = 60\n",
    "num_2 = 48\n",
    "print(gcd(60,48))"
   ]
  },
  {
   "cell_type": "markdown",
   "id": "128fcd24",
   "metadata": {},
   "source": [
    "07. Leap Year Checker: Write a Python function called `is_leap_year` that takes a year as input and returns `True` if it is a leap year and `False` otherwise. Test the function with different years."
   ]
  },
  {
   "cell_type": "code",
   "execution_count": 116,
   "id": "2f17209f",
   "metadata": {},
   "outputs": [
    {
     "name": "stdout",
     "output_type": "stream",
     "text": [
      "1700  is not leap year\n"
     ]
    }
   ],
   "source": [
    "def check_leap(year): \n",
    "    if((year % 400 == 0) or (year % 100 != 0) and (year % 4 == 0)):   \n",
    "        return True  \n",
    "    else:\n",
    "        return False \n",
    "#year = int(input('Type year: '))\n",
    "year = 1700\n",
    "if check_leap(year):\n",
    "    print(year,' is leap year')\n",
    "else:\n",
    "    print(year,' is not leap year')"
   ]
  },
  {
   "cell_type": "markdown",
   "id": "83a07932",
   "metadata": {},
   "source": [
    "# Nested Functions Problems:"
   ]
  },
  {
   "cell_type": "markdown",
   "id": "df4b7f1c",
   "metadata": {},
   "source": [
    "108. Math Operations: Write a Python function called `math_operations` that takes three numbers and a string representing an operation (‘add’, ‘subtract’, ‘multiply’, or ‘divide’). The function should return the result of the specified operation on the three numbers. Implement the math operations as nested functions."
   ]
  },
  {
   "cell_type": "code",
   "execution_count": 117,
   "id": "4ae89797",
   "metadata": {},
   "outputs": [
    {
     "name": "stdout",
     "output_type": "stream",
     "text": [
      "15\n",
      "6\n",
      "20\n",
      "3.75\n",
      "Error\n"
     ]
    }
   ],
   "source": [
    "def math_operation(a,b,c,operation):\n",
    "    def addition(a,b,c):\n",
    "        print(a+b+c)\n",
    "    def sbtraction(a,b,c):\n",
    "        print(a-b-c)\n",
    "    def multiplication(a,b,c):\n",
    "        print(a*b*c)\n",
    "    def division(a,b,c):\n",
    "        print(a/b/c)\n",
    "    def error():\n",
    "        print('Error')\n",
    "    if operation=='add':\n",
    "        addition(a,b,c)\n",
    "    elif operation=='subtract':\n",
    "        sbtraction(a,b,c)\n",
    "    elif operation=='multiply':\n",
    "        multiplication(a,b,c)\n",
    "    elif operation=='divide':\n",
    "        division(a,b,c)\n",
    "    else:\n",
    "        error()\n",
    "    \n",
    "math_operation(5,8,2,'add')\n",
    "math_operation(15,2,7,'subtract')\n",
    "math_operation(5,2,2,'multiply')\n",
    "math_operation(15,2,2,'divide')\n",
    "math_operation(15,2,2,'equal')"
   ]
  },
  {
   "cell_type": "markdown",
   "id": "54df94a3",
   "metadata": {},
   "source": [
    "109. Greeting Generator: Write a Python function called `greeting_generator` that takes a name as input and returns a greeting message using nested functions. The greeting message should be customizable (e.g., “Hello, {name}! How are you today?”)."
   ]
  },
  {
   "cell_type": "code",
   "execution_count": 118,
   "id": "23c9662d",
   "metadata": {},
   "outputs": [
    {
     "name": "stdout",
     "output_type": "stream",
     "text": [
      "Hello,  shihab ! How are uyou today?\n"
     ]
    }
   ],
   "source": [
    "def greeting_generator(name):\n",
    "    def get_name():\n",
    "        return name\n",
    "    print('Hello, ',get_name(),'! How are uyou today?')\n",
    "greeting_generator('shihab')"
   ]
  },
  {
   "cell_type": "markdown",
   "id": "a1771d80",
   "metadata": {},
   "source": [
    "110. Temperature Converter: Write a Python function called `temperature_converter` that takes a temperature value and a string representing the scale (‘C’ for Celsius or ‘F’ for Fahrenheit) as input. The function should convert the temperature from one scale to the other using nested functions and return the converted value."
   ]
  },
  {
   "cell_type": "code",
   "execution_count": 119,
   "id": "cc79e077",
   "metadata": {},
   "outputs": [
    {
     "name": "stdout",
     "output_type": "stream",
     "text": [
      "68  fahrenheit =  20.0  = celsius\n",
      "20  celsius =  68.0  = fahrenheit\n"
     ]
    }
   ],
   "source": [
    "def temperature_converter(p1,p2):\n",
    "    def convert_celsius():\n",
    "        return (p1-32) * 5/9\n",
    "    def convert_fahrenheit():\n",
    "        return (p1 * 9/5) + 32\n",
    "    if p2=='c':\n",
    "        print(p1,' fahrenheit = ',convert_celsius(),' = celsius')\n",
    "    elif p2=='f':\n",
    "        print(p1,' celsius = ',convert_fahrenheit(),' = fahrenheit')\n",
    "    else:\n",
    "        print('Error')\n",
    "temperature_converter(68,'c')\n",
    "temperature_converter(20,'f')"
   ]
  },
  {
   "cell_type": "markdown",
   "id": "f7c40d9b",
   "metadata": {},
   "source": [
    "# Recursion"
   ]
  },
  {
   "cell_type": "markdown",
   "id": "fd6ce7c9",
   "metadata": {},
   "source": [
    "111. Factorial Calculation: Write a recursive Python function called `factorial` that takes a non-negative integer as input and returns its factorial."
   ]
  },
  {
   "cell_type": "code",
   "execution_count": 120,
   "id": "1c6c2457",
   "metadata": {},
   "outputs": [
    {
     "data": {
      "text/plain": [
       "120"
      ]
     },
     "execution_count": 120,
     "metadata": {},
     "output_type": "execute_result"
    }
   ],
   "source": [
    "def factorial(n):\n",
    "    if n<1:\n",
    "        return 1\n",
    "    else:\n",
    "        return n*factorial(n-1)\n",
    "factorial(5)"
   ]
  },
  {
   "cell_type": "markdown",
   "id": "374cc1fe",
   "metadata": {},
   "source": [
    "112. Fibonacci Series: Write a recursive Python function called `Fibonacci` that takes an integer N as input and returns the Nth number in the Fibonacci series. The Fibonacci series is defined as follows: F(0) = 0, F(1) = 1, and F(n) = F(n-1) + F(n-2) for n > 1."
   ]
  },
  {
   "cell_type": "code",
   "execution_count": 121,
   "id": "785680fd",
   "metadata": {},
   "outputs": [
    {
     "name": "stdout",
     "output_type": "stream",
     "text": [
      "8\n"
     ]
    }
   ],
   "source": [
    "def fibonacci(n):\n",
    "    if n <= 1:\n",
    "        return n;\n",
    "    return fibonacci(n - 1) + fibonacci(n - 2);\n",
    "print(fibonacci(6))"
   ]
  },
  {
   "cell_type": "markdown",
   "id": "cd392544",
   "metadata": {},
   "source": [
    "113. The sum of Digits: Write a recursive Python function called `sum_of_digits` that takes an integer as input and returns the sum of its digits."
   ]
  },
  {
   "cell_type": "code",
   "execution_count": 122,
   "id": "d1405c91",
   "metadata": {},
   "outputs": [
    {
     "name": "stdout",
     "output_type": "stream",
     "text": [
      "15\n"
     ]
    }
   ],
   "source": [
    "def sum_of_digit(n):\n",
    "    if n<1:\n",
    "        return 0;\n",
    "    return n%10+sum_of_digit(n//10);\n",
    "print(sum_of_digit(456))"
   ]
  },
  {
   "cell_type": "markdown",
   "id": "7062b620",
   "metadata": {},
   "source": [
    "114. Binary Search: Write a recursive Python function called `binary_search` that takes a sorted list and a target value as input and returns the index of the target value in the list using binary search. If the target value is not in the list, return -1."
   ]
  },
  {
   "cell_type": "code",
   "execution_count": 123,
   "id": "eabdb37d",
   "metadata": {},
   "outputs": [
    {
     "name": "stdout",
     "output_type": "stream",
     "text": [
      "The given list is\n",
      "[2, 4, 6, 9, 12, 16, 18, 19, 20, 21, 22]\n",
      "Element searched is found at the index  3 of given list\n"
     ]
    }
   ],
   "source": [
    "def binary_search(L, start, end, item):  \n",
    "    if end >= start:  \n",
    "        middle = (start + end) // 2  \n",
    "        if L[middle] == item:  \n",
    "            return middle \n",
    "        elif L[middle] > item:   \n",
    "            return binary_search(L, start, middle - 1, item)  \n",
    "        else:  \n",
    "            return binary_search(L, middle + 1, end, item)  \n",
    "    else:  \n",
    "        return -1  \n",
    "    \n",
    "my_list = [ 2, 4, 6, 9, 12, 16, 18, 19, 20, 21, 22 ]  \n",
    "element_to_search = 9  \n",
    "print(\"The given list is\")  \n",
    "print(my_list)  \n",
    "  \n",
    "index_of_element = binary_search(my_list, 0, len(my_list)-1, element_to_search)  \n",
    "  \n",
    "if index_of_element != -1:  \n",
    "    print(\"Element searched is found at the index \", str(index_of_element), \"of given list\")  \n",
    "else:  \n",
    "    print(\"Element searched is not found in the given list!\")  "
   ]
  },
  {
   "cell_type": "markdown",
   "id": "cf7e3b33",
   "metadata": {},
   "source": [
    "115. Power Calculation: Write a recursive Python function called `power` that takes two positive integers, base and exponent, as input and returns the value of base raised to the exponent."
   ]
  },
  {
   "cell_type": "code",
   "execution_count": 124,
   "id": "27f15d09",
   "metadata": {},
   "outputs": [
    {
     "name": "stdout",
     "output_type": "stream",
     "text": [
      "25\n"
     ]
    }
   ],
   "source": [
    "def power(n, p):\n",
    "    if p == 0:\n",
    "        return 1\n",
    "    return (n*power(n, p-1)) \n",
    "print(power(5, 2))"
   ]
  },
  {
   "cell_type": "code",
   "execution_count": null,
   "id": "0cb635c3",
   "metadata": {},
   "outputs": [],
   "source": []
  }
 ],
 "metadata": {
  "kernelspec": {
   "display_name": "Python 3 (ipykernel)",
   "language": "python",
   "name": "python3"
  },
  "language_info": {
   "codemirror_mode": {
    "name": "ipython",
    "version": 3
   },
   "file_extension": ".py",
   "mimetype": "text/x-python",
   "name": "python",
   "nbconvert_exporter": "python",
   "pygments_lexer": "ipython3",
   "version": "3.9.13"
  }
 },
 "nbformat": 4,
 "nbformat_minor": 5
}
